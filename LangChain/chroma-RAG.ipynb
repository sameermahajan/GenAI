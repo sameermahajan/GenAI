{
 "cells": [
  {
   "cell_type": "markdown",
   "id": "ec889d86-0d16-477f-8b7f-be03d73ad957",
   "metadata": {},
   "source": [
    "# Lab 1 - Overview of embeddings-based retrieval"
   ]
  },
  {
   "cell_type": "markdown",
   "id": "58ee2f53-d88b-4f00-94a2-75a66d4149e9",
   "metadata": {},
   "source": [
    "Welcome! Here's a few notes about the Chroma course notebooks.\n",
    " - A number of warnings pop up when running the notebooks. These are normal and can be ignored.\n",
    " - Some operations such as calling an LLM or an opeation using generated data return unpredictable results and so your notebook outputs may differ from the video.\n",
    "  \n",
    "Enjoy the course!"
   ]
  },
  {
   "cell_type": "code",
   "execution_count": 1,
   "id": "5a5536f0-651c-40e7-aa15-27ee0cda80b7",
   "metadata": {
    "height": 29
   },
   "outputs": [
    {
     "ename": "ImportError",
     "evalue": "cannot import name 'word_wrap' from 'helper_utils' (C:\\GenerativeAI\\venv\\lib\\site-packages\\helper_utils\\__init__.py)",
     "output_type": "error",
     "traceback": [
      "\u001b[1;31m---------------------------------------------------------------------------\u001b[0m",
      "\u001b[1;31mImportError\u001b[0m                               Traceback (most recent call last)",
      "Cell \u001b[1;32mIn[1], line 1\u001b[0m\n\u001b[1;32m----> 1\u001b[0m \u001b[38;5;28;01mfrom\u001b[39;00m \u001b[38;5;21;01mhelper_utils\u001b[39;00m \u001b[38;5;28;01mimport\u001b[39;00m word_wrap\n",
      "\u001b[1;31mImportError\u001b[0m: cannot import name 'word_wrap' from 'helper_utils' (C:\\GenerativeAI\\venv\\lib\\site-packages\\helper_utils\\__init__.py)"
     ]
    }
   ],
   "source": [
    "from helper_utils import word_wrap"
   ]
  },
  {
   "cell_type": "code",
   "execution_count": 2,
   "id": "d006a522-e565-4b51-8d7f-4c3228b17ca1",
   "metadata": {},
   "outputs": [
    {
     "name": "stdout",
     "output_type": "stream",
     "text": [
      "Collecting helper_utils\n",
      "  Downloading helper_utils-0.0.8.tar.gz (5.7 kB)\n",
      "  Installing build dependencies: started\n",
      "  Installing build dependencies: finished with status 'done'\n",
      "  Getting requirements to build wheel: started\n",
      "  Getting requirements to build wheel: finished with status 'done'\n",
      "  Preparing metadata (pyproject.toml): started\n",
      "  Preparing metadata (pyproject.toml): finished with status 'done'\n",
      "Requirement already satisfied: numpy in c:\\generativeai\\venv\\lib\\site-packages (from helper_utils) (1.26.2)\n",
      "Requirement already satisfied: pandas in c:\\generativeai\\venv\\lib\\site-packages (from helper_utils) (2.1.3)\n",
      "Requirement already satisfied: python-dateutil>=2.8.2 in c:\\generativeai\\venv\\lib\\site-packages (from pandas->helper_utils) (2.8.2)\n",
      "Requirement already satisfied: pytz>=2020.1 in c:\\generativeai\\venv\\lib\\site-packages (from pandas->helper_utils) (2023.3.post1)\n",
      "Requirement already satisfied: tzdata>=2022.1 in c:\\generativeai\\venv\\lib\\site-packages (from pandas->helper_utils) (2023.3)\n",
      "Requirement already satisfied: six>=1.5 in c:\\generativeai\\venv\\lib\\site-packages (from python-dateutil>=2.8.2->pandas->helper_utils) (1.16.0)\n",
      "Building wheels for collected packages: helper_utils\n",
      "  Building wheel for helper_utils (pyproject.toml): started\n",
      "  Building wheel for helper_utils (pyproject.toml): finished with status 'done'\n",
      "  Created wheel for helper_utils: filename=helper_utils-0.0.8-py3-none-any.whl size=6087 sha256=7f4727c3ffd6d8d9866200c27b59d8ac428b5cc22fb168c6ffa6e081c234d196\n",
      "  Stored in directory: c:\\users\\gs-1316\\appdata\\local\\pip\\cache\\wheels\\93\\31\\89\\72db26fbc332528171a78ca959f893e04513cdfd8ffead8879\n",
      "Successfully built helper_utils\n",
      "Installing collected packages: helper_utils\n",
      "Successfully installed helper_utils-0.0.8\n"
     ]
    },
    {
     "name": "stderr",
     "output_type": "stream",
     "text": [
      "\n",
      "[notice] A new release of pip is available: 23.3.1 -> 24.0\n",
      "[notice] To update, run: python.exe -m pip install --upgrade pip\n"
     ]
    }
   ],
   "source": [
    "#!pip install helper_utils"
   ]
  },
  {
   "cell_type": "code",
   "execution_count": 2,
   "id": "3748b16d-d4a7-49c3-a48a-57dcfc42acd6",
   "metadata": {
    "height": 182
   },
   "outputs": [
    {
     "name": "stdout",
     "output_type": "stream",
     "text": [
      "['1 Dear shareholders, colleagues, customers, and partners:   We are', 'living through a period of historic economic, societal, and', 'geopolitical change. The world in 2022 looks nothing like  the world', 'in 2019. As I write this, inflation is at a 40 -year high, supply', 'chains are stretched, and the war in Ukraine is  ongoing.  At the same', 'time, we are entering a technological era with the potential to power', 'awesome advancements  across every sector of our economy and society.', 'As the world’s largest software company, this places us at a historic', 'intersection of opportunity and re sponsibility to the world around', 'us.   Our mission to empower every person and every organization on', 'the planet to achieve more has never been more  urgent or more', 'necessary. For all the uncertainty in the world, one thing is clear:', 'People and organizations in every  industry are increasingly looking', 'to digital technology to overcome today’s challenges and emerge', 'stronger. And no  company is better positioned to help them than', 'Microsoft.   Every day this past fiscal year I have had the privilege', 'to witness our c ustomers use our platforms and tools to connect  what', 'technology can do with what the world needs  it to do.   Here are just', 'a few examples:   • Ferrovial, which builds and manages some of the', 'world’s busiest airports and highways, is using our cloud  infrastru', 'cture to build safer roads as it prepares for a future of autonomous', 'transportation.   • Peace Parks Foundation, a nonprofit helping', 'protect natural ecosystems in Southern Africa, is using Microsoft', 'Dynamics 365 and Power BI to secure essential funding, as well as our', 'Azure AI and IoT solutions to help  rangers scale their park', 'maintenance and wildlife crime prevention work.   • One of the world’s', 'largest robotics companies, Kawasaki Heavy Industries, is using the', 'breadth of our tools — from Azure IoT and HoloLe ns—to create an', 'industrial metaverse solution that brings its distributed workforce', 'together with its network of connected equipment to improve', 'productivity and keep employees safe.   • Globo, the biggest media and', 'TV company in Brazil, is using Power Platf orm to empower its', 'employees to  build their own solutions for everything from booking', 'sets to setting schedules.   • And Ørsted, which produces a quarter of', 'the world’s wind energy, is using the Microsoft Intelligent Data', 'Platform to turn data from its offshore turbines into insights for', 'predictive maintenance.   Amid this dynamic environment, we delivered', 'record results in fiscal year 2022: We reported $198  billion in', 'revenue and  $83 billion in operating income. And the Microsoft Cloud', 'surpassed $100  billion in annualized revenue for the first time.', 'OUR RESPONSIBILITY   As a corporation, our purpose and actions must be', 'al igned with addressing the world’s problems, not creating new ones.', 'At our very core, we need to deliver innovation that helps drive broad', 'economic growth. We, as a company, will do well  when the world around', 'us does well.   That’s what I believe will lead t o widespread human', 'progress and ultimately improve the lives of everyone. There is no', 'more powerful input than digital technology to drive the world’s', 'economic output. This is the core thesis for our being as a  company,', 'but it’s not enough. As we drive glo bal economic growth, we must also', 'commit to creating a more inclusive,  equitable, sustainable, and', 'trusted future.   Support inclusive economic growth   We must ensure', 'the growth we drive reaches every person, organization, community, and', 'country. This start s with  increasing access to digital skills. This', 'year alone, more than 23  million people accessed digital skills', 'training as part of  our global skills initiative.']\n"
     ]
    }
   ],
   "source": [
    "from pypdf import PdfReader\n",
    "import textwrap\n",
    "\n",
    "reader = PdfReader(\"microsoft_annual_report_2022.pdf\")\n",
    "pdf_texts = [p.extract_text().strip() for p in reader.pages]\n",
    "\n",
    "# Filter the empty strings\n",
    "pdf_texts = [text for text in pdf_texts if text]\n",
    "\n",
    "print(textwrap.wrap(pdf_texts[0]))"
   ]
  },
  {
   "cell_type": "markdown",
   "id": "bbd608a5-b6c9-4ae9-a871-a3e470a4d12a",
   "metadata": {},
   "source": [
    "You can view the pdf in your browser [here](./microsoft_annual_report_2022.pdf) if you would like. "
   ]
  },
  {
   "cell_type": "code",
   "execution_count": 3,
   "id": "a338ec83-6301-41a5-9ab1-e5d583306a3f",
   "metadata": {
    "height": 63
   },
   "outputs": [],
   "source": [
    "from langchain.text_splitter import RecursiveCharacterTextSplitter, SentenceTransformersTokenTextSplitter\n"
   ]
  },
  {
   "cell_type": "code",
   "execution_count": 4,
   "id": "888a86f8-2fe2-4682-bdaf-c15129ed1a32",
   "metadata": {
    "height": 182
   },
   "outputs": [
    {
     "name": "stdout",
     "output_type": "stream",
     "text": [
      "['increased, due in large part to significant global datacenter', 'expansions and the growth in Xbox sales and usage. Despite  these', 'increases, we remain dedicated to achieving a net -zero future. We', 'recognize that progress won’t always be linear,  and the rate at which', 'we can implement emissions reductions is dependent on many factors', 'that can fluctuate over time.   On the path to becoming water', 'positive, we invested in 21 water replenishment projects that are', 'expected to generate  over 1.3  million cubic meters of volumetric', 'benefits in nine water basins around the world. Progress toward our', 'zero waste  commitment includ ed diverting more than 15,200 metric', 'tons of solid waste otherwise headed to landfills and incinerators,', 'as well as launching new Circular Centers to increase reuse and reduce', 'e -waste at our datacenters.   We contracted to protect over 17,000', 'acres of land (50% more than the land we use to operate), thus', 'achieving our']\n",
      "\n",
      "Total chunks: 347\n"
     ]
    }
   ],
   "source": [
    "character_splitter = RecursiveCharacterTextSplitter(\n",
    "    separators=[\"\\n\\n\", \"\\n\", \". \", \" \", \"\"],\n",
    "    chunk_size=1000,\n",
    "    chunk_overlap=0\n",
    ")\n",
    "character_split_texts = character_splitter.split_text('\\n\\n'.join(pdf_texts))\n",
    "\n",
    "print(textwrap.wrap(character_split_texts[10]))\n",
    "print(f\"\\nTotal chunks: {len(character_split_texts)}\")"
   ]
  },
  {
   "cell_type": "code",
   "execution_count": 7,
   "id": "5665c695-22ea-4264-b1ac-5ba720b6d78b",
   "metadata": {
    "height": 165
   },
   "outputs": [
    {
     "data": {
      "application/vnd.jupyter.widget-view+json": {
       "model_id": "ef3ea036ac4a4ad49f166abf7c9b073f",
       "version_major": 2,
       "version_minor": 0
      },
      "text/plain": [
       "modules.json:   0%|          | 0.00/349 [00:00<?, ?B/s]"
      ]
     },
     "metadata": {},
     "output_type": "display_data"
    },
    {
     "name": "stderr",
     "output_type": "stream",
     "text": [
      "C:\\GenerativeAI\\venv\\lib\\site-packages\\huggingface_hub\\file_download.py:147: UserWarning: `huggingface_hub` cache-system uses symlinks by default to efficiently store duplicated files but your machine does not support them in C:\\Users\\GS-1316\\.cache\\huggingface\\hub. Caching files will still work but in a degraded version that might require more space on your disk. This warning can be disabled by setting the `HF_HUB_DISABLE_SYMLINKS_WARNING` environment variable. For more details, see https://huggingface.co/docs/huggingface_hub/how-to-cache#limitations.\n",
      "To support symlinks on Windows, you either need to activate Developer Mode or to run Python as an administrator. In order to see activate developer mode, see this article: https://docs.microsoft.com/en-us/windows/apps/get-started/enable-your-device-for-development\n",
      "  warnings.warn(message)\n"
     ]
    },
    {
     "data": {
      "application/vnd.jupyter.widget-view+json": {
       "model_id": "64048f366e204b37a23a5617baca10e9",
       "version_major": 2,
       "version_minor": 0
      },
      "text/plain": [
       "config_sentence_transformers.json:   0%|          | 0.00/116 [00:00<?, ?B/s]"
      ]
     },
     "metadata": {},
     "output_type": "display_data"
    },
    {
     "data": {
      "application/vnd.jupyter.widget-view+json": {
       "model_id": "544e169d70d44c4c94cae0114d551897",
       "version_major": 2,
       "version_minor": 0
      },
      "text/plain": [
       "README.md:   0%|          | 0.00/10.6k [00:00<?, ?B/s]"
      ]
     },
     "metadata": {},
     "output_type": "display_data"
    },
    {
     "data": {
      "application/vnd.jupyter.widget-view+json": {
       "model_id": "385f6d642365435e9a16347b6aa741a4",
       "version_major": 2,
       "version_minor": 0
      },
      "text/plain": [
       "sentence_bert_config.json:   0%|          | 0.00/53.0 [00:00<?, ?B/s]"
      ]
     },
     "metadata": {},
     "output_type": "display_data"
    },
    {
     "data": {
      "application/vnd.jupyter.widget-view+json": {
       "model_id": "e90c5853f22d41c4b9a757c66f19d259",
       "version_major": 2,
       "version_minor": 0
      },
      "text/plain": [
       "config.json:   0%|          | 0.00/571 [00:00<?, ?B/s]"
      ]
     },
     "metadata": {},
     "output_type": "display_data"
    },
    {
     "data": {
      "application/vnd.jupyter.widget-view+json": {
       "model_id": "8d63b485fbb64d2e8eb0976ba3774c0a",
       "version_major": 2,
       "version_minor": 0
      },
      "text/plain": [
       "pytorch_model.bin:   0%|          | 0.00/438M [00:00<?, ?B/s]"
      ]
     },
     "metadata": {},
     "output_type": "display_data"
    },
    {
     "data": {
      "application/vnd.jupyter.widget-view+json": {
       "model_id": "95454f523f4341d9b453c88751145a53",
       "version_major": 2,
       "version_minor": 0
      },
      "text/plain": [
       "tokenizer_config.json:   0%|          | 0.00/363 [00:00<?, ?B/s]"
      ]
     },
     "metadata": {},
     "output_type": "display_data"
    },
    {
     "data": {
      "application/vnd.jupyter.widget-view+json": {
       "model_id": "7455e216ef4c444f9762b55fac335e2a",
       "version_major": 2,
       "version_minor": 0
      },
      "text/plain": [
       "vocab.txt:   0%|          | 0.00/232k [00:00<?, ?B/s]"
      ]
     },
     "metadata": {},
     "output_type": "display_data"
    },
    {
     "data": {
      "application/vnd.jupyter.widget-view+json": {
       "model_id": "ad7872fe424c4ea9a70a8984052b68fa",
       "version_major": 2,
       "version_minor": 0
      },
      "text/plain": [
       "tokenizer.json:   0%|          | 0.00/466k [00:00<?, ?B/s]"
      ]
     },
     "metadata": {},
     "output_type": "display_data"
    },
    {
     "data": {
      "application/vnd.jupyter.widget-view+json": {
       "model_id": "b9219ba1187f44ec84fa73f2a9e54f79",
       "version_major": 2,
       "version_minor": 0
      },
      "text/plain": [
       "special_tokens_map.json:   0%|          | 0.00/239 [00:00<?, ?B/s]"
      ]
     },
     "metadata": {},
     "output_type": "display_data"
    },
    {
     "data": {
      "application/vnd.jupyter.widget-view+json": {
       "model_id": "785bd03e24254e6c99e31fbdb3d6efca",
       "version_major": 2,
       "version_minor": 0
      },
      "text/plain": [
       "1_Pooling/config.json:   0%|          | 0.00/190 [00:00<?, ?B/s]"
      ]
     },
     "metadata": {},
     "output_type": "display_data"
    },
    {
     "name": "stdout",
     "output_type": "stream",
     "text": [
      "['increased, due in large part to significant global datacenter', 'expansions and the growth in xbox sales and usage. despite these', 'increases, we remain dedicated to achieving a net - zero future. we', 'recognize that progress won ’ t always be linear, and the rate at', 'which we can implement emissions reductions is dependent on many', 'factors that can fluctuate over time. on the path to becoming water', 'positive, we invested in 21 water replenishment projects that are', 'expected to generate over 1. 3 million cubic meters of volumetric', 'benefits in nine water basins around the world. progress toward our', 'zero waste commitment includ ed diverting more than 15, 200 metric', 'tons of solid waste otherwise headed to landfills and incinerators, as', 'well as launching new circular centers to increase reuse and reduce e', '- waste at our datacenters. we contracted to protect over 17, 000', 'acres of land ( 50 % more than the land we use to operate ), thus', 'achieving our']\n",
      "\n",
      "Total chunks: 349\n"
     ]
    }
   ],
   "source": [
    "token_splitter = SentenceTransformersTokenTextSplitter(chunk_overlap=0, tokens_per_chunk=256)\n",
    "\n",
    "token_split_texts = []\n",
    "for text in character_split_texts:\n",
    "    token_split_texts += token_splitter.split_text(text)\n",
    "\n",
    "print(textwrap.wrap(token_split_texts[10]))\n",
    "print(f\"\\nTotal chunks: {len(token_split_texts)}\")"
   ]
  },
  {
   "cell_type": "code",
   "execution_count": 6,
   "id": "c50573c2-658f-4e8f-a1ad-3ded1a6f5a91",
   "metadata": {},
   "outputs": [
    {
     "name": "stdout",
     "output_type": "stream",
     "text": [
      "Collecting sentence-transformers\n",
      "  Downloading sentence_transformers-2.3.1-py3-none-any.whl.metadata (11 kB)\n",
      "Collecting transformers<5.0.0,>=4.32.0 (from sentence-transformers)\n",
      "  Downloading transformers-4.37.2-py3-none-any.whl.metadata (129 kB)\n",
      "     ---------------------------------------- 0.0/129.4 kB ? eta -:--:--\n",
      "     ----------- ------------------------- 41.0/129.4 kB 991.0 kB/s eta 0:00:01\n",
      "     -------------------------------------- 129.4/129.4 kB 1.9 MB/s eta 0:00:00\n",
      "Requirement already satisfied: tqdm in c:\\generativeai\\venv\\lib\\site-packages (from sentence-transformers) (4.65.0)\n",
      "Collecting torch>=1.11.0 (from sentence-transformers)\n",
      "  Downloading torch-2.2.0-cp310-cp310-win_amd64.whl.metadata (26 kB)\n",
      "Requirement already satisfied: numpy in c:\\generativeai\\venv\\lib\\site-packages (from sentence-transformers) (1.26.2)\n",
      "Requirement already satisfied: scikit-learn in c:\\generativeai\\venv\\lib\\site-packages (from sentence-transformers) (1.3.2)\n",
      "Requirement already satisfied: scipy in c:\\generativeai\\venv\\lib\\site-packages (from sentence-transformers) (1.11.4)\n",
      "Collecting nltk (from sentence-transformers)\n",
      "  Downloading nltk-3.8.1-py3-none-any.whl (1.5 MB)\n",
      "     ---------------------------------------- 0.0/1.5 MB ? eta -:--:--\n",
      "     ------ --------------------------------- 0.2/1.5 MB 14.1 MB/s eta 0:00:01\n",
      "     ------------------------ --------------- 0.9/1.5 MB 11.8 MB/s eta 0:00:01\n",
      "     ------------------------- -------------- 1.0/1.5 MB 12.2 MB/s eta 0:00:01\n",
      "     ------------------------- -------------- 1.0/1.5 MB 12.2 MB/s eta 0:00:01\n",
      "     -------------------------- ------------- 1.0/1.5 MB 4.4 MB/s eta 0:00:01\n",
      "     -------------------------- ------------- 1.0/1.5 MB 4.4 MB/s eta 0:00:01\n",
      "     --------------------------- ------------ 1.0/1.5 MB 3.5 MB/s eta 0:00:01\n",
      "     -------------------------------------- - 1.4/1.5 MB 4.0 MB/s eta 0:00:01\n",
      "     ---------------------------------------- 1.5/1.5 MB 3.8 MB/s eta 0:00:00\n",
      "Collecting sentencepiece (from sentence-transformers)\n",
      "  Downloading sentencepiece-0.1.99-cp310-cp310-win_amd64.whl (977 kB)\n",
      "     ---------------------------------------- 0.0/977.5 kB ? eta -:--:--\n",
      "     ------------------------------------- 977.5/977.5 kB 20.6 MB/s eta 0:00:00\n",
      "Requirement already satisfied: huggingface-hub>=0.15.1 in c:\\generativeai\\venv\\lib\\site-packages (from sentence-transformers) (0.19.4)\n",
      "Requirement already satisfied: Pillow in c:\\generativeai\\venv\\lib\\site-packages (from sentence-transformers) (10.2.0)\n",
      "Requirement already satisfied: filelock in c:\\generativeai\\venv\\lib\\site-packages (from huggingface-hub>=0.15.1->sentence-transformers) (3.13.1)\n",
      "Requirement already satisfied: fsspec>=2023.5.0 in c:\\generativeai\\venv\\lib\\site-packages (from huggingface-hub>=0.15.1->sentence-transformers) (2023.10.0)\n",
      "Requirement already satisfied: requests in c:\\generativeai\\venv\\lib\\site-packages (from huggingface-hub>=0.15.1->sentence-transformers) (2.31.0)\n",
      "Requirement already satisfied: pyyaml>=5.1 in c:\\generativeai\\venv\\lib\\site-packages (from huggingface-hub>=0.15.1->sentence-transformers) (6.0.1)\n",
      "Requirement already satisfied: typing-extensions>=3.7.4.3 in c:\\generativeai\\venv\\lib\\site-packages (from huggingface-hub>=0.15.1->sentence-transformers) (4.9.0)\n",
      "Requirement already satisfied: packaging>=20.9 in c:\\generativeai\\venv\\lib\\site-packages (from huggingface-hub>=0.15.1->sentence-transformers) (23.2)\n",
      "Requirement already satisfied: sympy in c:\\generativeai\\venv\\lib\\site-packages (from torch>=1.11.0->sentence-transformers) (1.12)\n",
      "Collecting networkx (from torch>=1.11.0->sentence-transformers)\n",
      "  Downloading networkx-3.2.1-py3-none-any.whl.metadata (5.2 kB)\n",
      "Requirement already satisfied: jinja2 in c:\\generativeai\\venv\\lib\\site-packages (from torch>=1.11.0->sentence-transformers) (3.1.2)\n",
      "Requirement already satisfied: colorama in c:\\generativeai\\venv\\lib\\site-packages (from tqdm->sentence-transformers) (0.4.6)\n",
      "Requirement already satisfied: regex!=2019.12.17 in c:\\generativeai\\venv\\lib\\site-packages (from transformers<5.0.0,>=4.32.0->sentence-transformers) (2023.12.25)\n",
      "Requirement already satisfied: tokenizers<0.19,>=0.14 in c:\\generativeai\\venv\\lib\\site-packages (from transformers<5.0.0,>=4.32.0->sentence-transformers) (0.15.0)\n",
      "Collecting safetensors>=0.4.1 (from transformers<5.0.0,>=4.32.0->sentence-transformers)\n",
      "  Downloading safetensors-0.4.2-cp310-none-win_amd64.whl.metadata (3.9 kB)\n",
      "Requirement already satisfied: click in c:\\generativeai\\venv\\lib\\site-packages (from nltk->sentence-transformers) (8.1.6)\n",
      "Requirement already satisfied: joblib in c:\\generativeai\\venv\\lib\\site-packages (from nltk->sentence-transformers) (1.3.2)\n",
      "Requirement already satisfied: threadpoolctl>=2.0.0 in c:\\generativeai\\venv\\lib\\site-packages (from scikit-learn->sentence-transformers) (3.2.0)\n",
      "Requirement already satisfied: MarkupSafe>=2.0 in c:\\generativeai\\venv\\lib\\site-packages (from jinja2->torch>=1.11.0->sentence-transformers) (2.1.3)\n",
      "Requirement already satisfied: charset-normalizer<4,>=2 in c:\\generativeai\\venv\\lib\\site-packages (from requests->huggingface-hub>=0.15.1->sentence-transformers) (3.2.0)\n",
      "Requirement already satisfied: idna<4,>=2.5 in c:\\generativeai\\venv\\lib\\site-packages (from requests->huggingface-hub>=0.15.1->sentence-transformers) (3.4)\n",
      "Requirement already satisfied: urllib3<3,>=1.21.1 in c:\\generativeai\\venv\\lib\\site-packages (from requests->huggingface-hub>=0.15.1->sentence-transformers) (2.0.4)\n",
      "Requirement already satisfied: certifi>=2017.4.17 in c:\\generativeai\\venv\\lib\\site-packages (from requests->huggingface-hub>=0.15.1->sentence-transformers) (2023.7.22)\n",
      "Requirement already satisfied: mpmath>=0.19 in c:\\generativeai\\venv\\lib\\site-packages (from sympy->torch>=1.11.0->sentence-transformers) (1.3.0)\n",
      "Downloading sentence_transformers-2.3.1-py3-none-any.whl (132 kB)\n",
      "   ---------------------------------------- 0.0/132.8 kB ? eta -:--:--\n",
      "   ---------------------------------------- 132.8/132.8 kB 8.2 MB/s eta 0:00:00\n",
      "Downloading torch-2.2.0-cp310-cp310-win_amd64.whl (198.6 MB)\n",
      "   ---------------------------------------- 0.0/198.6 MB ? eta -:--:--\n",
      "   ---------------------------------------- 0.5/198.6 MB 15.0 MB/s eta 0:00:14\n",
      "   ---------------------------------------- 1.9/198.6 MB 24.3 MB/s eta 0:00:09\n",
      "    --------------------------------------- 3.0/198.6 MB 23.8 MB/s eta 0:00:09\n",
      "    --------------------------------------- 4.0/198.6 MB 22.9 MB/s eta 0:00:09\n",
      "    --------------------------------------- 4.9/198.6 MB 22.5 MB/s eta 0:00:09\n",
      "   - -------------------------------------- 5.7/198.6 MB 21.4 MB/s eta 0:00:10\n",
      "   - -------------------------------------- 6.7/198.6 MB 21.5 MB/s eta 0:00:09\n",
      "   - -------------------------------------- 7.9/198.6 MB 21.8 MB/s eta 0:00:09\n",
      "   - -------------------------------------- 9.0/198.6 MB 22.2 MB/s eta 0:00:09\n",
      "   - -------------------------------------- 9.8/198.6 MB 21.7 MB/s eta 0:00:09\n",
      "   -- ------------------------------------- 10.5/198.6 MB 20.5 MB/s eta 0:00:10\n",
      "   -- ------------------------------------- 11.3/198.6 MB 20.5 MB/s eta 0:00:10\n",
      "   -- ------------------------------------- 12.5/198.6 MB 20.5 MB/s eta 0:00:10\n",
      "   -- ------------------------------------- 13.4/198.6 MB 20.5 MB/s eta 0:00:10\n",
      "   -- ------------------------------------- 14.0/198.6 MB 19.9 MB/s eta 0:00:10\n",
      "   -- ------------------------------------- 14.8/198.6 MB 19.2 MB/s eta 0:00:10\n",
      "   --- ------------------------------------ 15.9/198.6 MB 19.8 MB/s eta 0:00:10\n",
      "   --- ------------------------------------ 16.8/198.6 MB 19.9 MB/s eta 0:00:10\n",
      "   --- ------------------------------------ 17.9/198.6 MB 19.3 MB/s eta 0:00:10\n",
      "   --- ------------------------------------ 19.1/198.6 MB 19.9 MB/s eta 0:00:10\n",
      "   ---- ----------------------------------- 20.2/198.6 MB 19.8 MB/s eta 0:00:09\n",
      "   ---- ----------------------------------- 21.3/198.6 MB 21.1 MB/s eta 0:00:09\n",
      "   ---- ----------------------------------- 22.4/198.6 MB 21.1 MB/s eta 0:00:09\n",
      "   ---- ----------------------------------- 23.6/198.6 MB 21.8 MB/s eta 0:00:09\n",
      "   ---- ----------------------------------- 24.8/198.6 MB 23.4 MB/s eta 0:00:08\n",
      "   ----- ---------------------------------- 26.1/198.6 MB 24.3 MB/s eta 0:00:08\n",
      "   ----- ---------------------------------- 26.9/198.6 MB 25.1 MB/s eta 0:00:07\n",
      "   ----- ---------------------------------- 28.2/198.6 MB 24.2 MB/s eta 0:00:08\n",
      "   ----- ---------------------------------- 29.3/198.6 MB 24.2 MB/s eta 0:00:07\n",
      "   ------ --------------------------------- 30.2/198.6 MB 23.4 MB/s eta 0:00:08\n",
      "   ------ --------------------------------- 31.2/198.6 MB 23.4 MB/s eta 0:00:08\n",
      "   ------ --------------------------------- 32.1/198.6 MB 23.4 MB/s eta 0:00:08\n",
      "   ------ --------------------------------- 33.0/198.6 MB 23.4 MB/s eta 0:00:08\n",
      "   ------ --------------------------------- 34.2/198.6 MB 22.6 MB/s eta 0:00:08\n",
      "   ------- -------------------------------- 35.4/198.6 MB 22.6 MB/s eta 0:00:08\n",
      "   ------- -------------------------------- 36.5/198.6 MB 21.8 MB/s eta 0:00:08\n",
      "   ------- -------------------------------- 37.9/198.6 MB 23.4 MB/s eta 0:00:07\n",
      "   ------- -------------------------------- 39.0/198.6 MB 22.6 MB/s eta 0:00:08\n",
      "   -------- ------------------------------- 40.3/198.6 MB 23.4 MB/s eta 0:00:07\n",
      "   -------- ------------------------------- 41.6/198.6 MB 26.2 MB/s eta 0:00:06\n",
      "   -------- ------------------------------- 42.8/198.6 MB 26.2 MB/s eta 0:00:06\n",
      "   -------- ------------------------------- 44.1/198.6 MB 27.3 MB/s eta 0:00:06\n",
      "   --------- ------------------------------ 45.2/198.6 MB 27.3 MB/s eta 0:00:06\n",
      "   --------- ------------------------------ 46.4/198.6 MB 27.3 MB/s eta 0:00:06\n",
      "   --------- ------------------------------ 47.6/198.6 MB 27.3 MB/s eta 0:00:06\n",
      "   --------- ------------------------------ 49.0/198.6 MB 27.3 MB/s eta 0:00:06\n",
      "   ---------- ----------------------------- 50.2/198.6 MB 27.3 MB/s eta 0:00:06\n",
      "   ---------- ----------------------------- 51.6/198.6 MB 27.3 MB/s eta 0:00:06\n",
      "   ---------- ----------------------------- 52.7/198.6 MB 27.3 MB/s eta 0:00:06\n",
      "   ---------- ----------------------------- 53.9/198.6 MB 27.3 MB/s eta 0:00:06\n",
      "   ----------- ---------------------------- 55.1/198.6 MB 27.3 MB/s eta 0:00:06\n",
      "   ----------- ---------------------------- 56.4/198.6 MB 27.3 MB/s eta 0:00:06\n",
      "   ----------- ---------------------------- 57.8/198.6 MB 27.3 MB/s eta 0:00:06\n",
      "   ----------- ---------------------------- 58.9/198.6 MB 27.3 MB/s eta 0:00:06\n",
      "   ------------ --------------------------- 60.2/198.6 MB 27.3 MB/s eta 0:00:06\n",
      "   ------------ --------------------------- 61.5/198.6 MB 27.3 MB/s eta 0:00:06\n",
      "   ------------ --------------------------- 62.8/198.6 MB 27.3 MB/s eta 0:00:05\n",
      "   ------------ --------------------------- 64.1/198.6 MB 27.3 MB/s eta 0:00:05\n",
      "   ------------- -------------------------- 65.0/198.6 MB 26.2 MB/s eta 0:00:06\n",
      "   ------------- -------------------------- 66.2/198.6 MB 26.2 MB/s eta 0:00:06\n",
      "   ------------- -------------------------- 67.1/198.6 MB 25.2 MB/s eta 0:00:06\n",
      "   ------------- -------------------------- 68.2/198.6 MB 25.2 MB/s eta 0:00:06\n",
      "   ------------- -------------------------- 68.8/198.6 MB 24.2 MB/s eta 0:00:06\n",
      "   -------------- ------------------------- 69.8/198.6 MB 23.4 MB/s eta 0:00:06\n",
      "   -------------- ------------------------- 70.9/198.6 MB 22.6 MB/s eta 0:00:06\n",
      "   -------------- ------------------------- 72.2/198.6 MB 22.6 MB/s eta 0:00:06\n",
      "   -------------- ------------------------- 73.5/198.6 MB 22.6 MB/s eta 0:00:06\n",
      "   --------------- ------------------------ 74.7/198.6 MB 22.5 MB/s eta 0:00:06\n",
      "   --------------- ------------------------ 75.9/198.6 MB 23.4 MB/s eta 0:00:06\n",
      "   --------------- ------------------------ 77.2/198.6 MB 24.2 MB/s eta 0:00:06\n",
      "   --------------- ------------------------ 78.5/198.6 MB 25.2 MB/s eta 0:00:05\n",
      "   ---------------- ----------------------- 79.7/198.6 MB 26.2 MB/s eta 0:00:05\n",
      "   ---------------- ----------------------- 81.0/198.6 MB 27.3 MB/s eta 0:00:05\n",
      "   ---------------- ----------------------- 82.3/198.6 MB 27.3 MB/s eta 0:00:05\n",
      "   ---------------- ----------------------- 83.7/198.6 MB 27.3 MB/s eta 0:00:05\n",
      "   ----------------- ---------------------- 84.9/198.6 MB 27.3 MB/s eta 0:00:05\n",
      "   ----------------- ---------------------- 86.2/198.6 MB 28.4 MB/s eta 0:00:04\n",
      "   ----------------- ---------------------- 87.5/198.6 MB 27.3 MB/s eta 0:00:05\n",
      "   ----------------- ---------------------- 88.8/198.6 MB 27.3 MB/s eta 0:00:05\n",
      "   ------------------ --------------------- 90.2/198.6 MB 27.3 MB/s eta 0:00:04\n",
      "   ------------------ --------------------- 91.5/198.6 MB 29.8 MB/s eta 0:00:04\n",
      "   ------------------ --------------------- 92.7/198.6 MB 27.3 MB/s eta 0:00:04\n",
      "   ------------------ --------------------- 94.0/198.6 MB 28.5 MB/s eta 0:00:04\n",
      "   ------------------- -------------------- 95.3/198.6 MB 28.5 MB/s eta 0:00:04\n",
      "   ------------------- -------------------- 96.7/198.6 MB 27.3 MB/s eta 0:00:04\n",
      "   ------------------- -------------------- 97.6/198.6 MB 26.2 MB/s eta 0:00:04\n",
      "   ------------------- -------------------- 98.6/198.6 MB 26.2 MB/s eta 0:00:04\n",
      "   -------------------- ------------------- 99.6/198.6 MB 26.2 MB/s eta 0:00:04\n",
      "   ------------------- ------------------- 100.7/198.6 MB 25.2 MB/s eta 0:00:04\n",
      "   ------------------- ------------------- 101.8/198.6 MB 24.2 MB/s eta 0:00:04\n",
      "   -------------------- ------------------ 103.1/198.6 MB 25.2 MB/s eta 0:00:04\n",
      "   -------------------- ------------------ 104.2/198.6 MB 24.2 MB/s eta 0:00:04\n",
      "   -------------------- ------------------ 105.2/198.6 MB 24.2 MB/s eta 0:00:04\n",
      "   -------------------- ------------------ 106.5/198.6 MB 24.2 MB/s eta 0:00:04\n",
      "   --------------------- ----------------- 107.4/198.6 MB 23.4 MB/s eta 0:00:04\n",
      "   --------------------- ----------------- 108.6/198.6 MB 24.3 MB/s eta 0:00:04\n",
      "   --------------------- ----------------- 109.8/198.6 MB 24.2 MB/s eta 0:00:04\n",
      "   --------------------- ----------------- 111.0/198.6 MB 25.2 MB/s eta 0:00:04\n",
      "   ---------------------- ---------------- 112.2/198.6 MB 25.2 MB/s eta 0:00:04\n",
      "   ---------------------- ---------------- 113.3/198.6 MB 24.2 MB/s eta 0:00:04\n",
      "   ---------------------- ---------------- 114.5/198.6 MB 25.2 MB/s eta 0:00:04\n",
      "   ---------------------- ---------------- 115.7/198.6 MB 25.1 MB/s eta 0:00:04\n",
      "   ---------------------- ---------------- 117.1/198.6 MB 25.1 MB/s eta 0:00:04\n",
      "   ----------------------- --------------- 118.2/198.6 MB 26.2 MB/s eta 0:00:04\n",
      "   ----------------------- --------------- 119.6/198.6 MB 26.2 MB/s eta 0:00:04\n",
      "   ----------------------- --------------- 120.9/198.6 MB 26.2 MB/s eta 0:00:03\n",
      "   ------------------------ -------------- 122.3/198.6 MB 26.2 MB/s eta 0:00:03\n",
      "   ------------------------ -------------- 123.6/198.6 MB 27.3 MB/s eta 0:00:03\n",
      "   ------------------------ -------------- 124.8/198.6 MB 27.3 MB/s eta 0:00:03\n",
      "   ------------------------ -------------- 126.2/198.6 MB 28.4 MB/s eta 0:00:03\n",
      "   ------------------------- ------------- 127.5/198.6 MB 27.3 MB/s eta 0:00:03\n",
      "   ------------------------- ------------- 128.8/198.6 MB 28.5 MB/s eta 0:00:03\n",
      "   ------------------------- ------------- 130.0/198.6 MB 27.3 MB/s eta 0:00:03\n",
      "   ------------------------- ------------- 131.3/198.6 MB 27.3 MB/s eta 0:00:03\n",
      "   ------------------------- ------------- 132.2/198.6 MB 26.2 MB/s eta 0:00:03\n",
      "   -------------------------- ------------ 133.4/198.6 MB 26.2 MB/s eta 0:00:03\n",
      "   -------------------------- ------------ 134.6/198.6 MB 26.2 MB/s eta 0:00:03\n",
      "   -------------------------- ------------ 135.8/198.6 MB 26.2 MB/s eta 0:00:03\n",
      "   -------------------------- ------------ 137.2/198.6 MB 27.3 MB/s eta 0:00:03\n",
      "   --------------------------- ----------- 138.6/198.6 MB 26.2 MB/s eta 0:00:03\n",
      "   --------------------------- ----------- 139.2/198.6 MB 25.1 MB/s eta 0:00:03\n",
      "   --------------------------- ----------- 139.7/198.6 MB 24.2 MB/s eta 0:00:03\n",
      "   --------------------------- ----------- 140.8/198.6 MB 22.6 MB/s eta 0:00:03\n",
      "   --------------------------- ----------- 141.7/198.6 MB 22.6 MB/s eta 0:00:03\n",
      "   ---------------------------- ---------- 142.8/198.6 MB 23.4 MB/s eta 0:00:03\n",
      "   ---------------------------- ---------- 143.9/198.6 MB 22.6 MB/s eta 0:00:03\n",
      "   ---------------------------- ---------- 145.0/198.6 MB 22.6 MB/s eta 0:00:03\n",
      "   ---------------------------- ---------- 146.0/198.6 MB 21.8 MB/s eta 0:00:03\n",
      "   ---------------------------- ---------- 147.1/198.6 MB 21.8 MB/s eta 0:00:03\n",
      "   ----------------------------- --------- 148.1/198.6 MB 21.1 MB/s eta 0:00:03\n",
      "   ----------------------------- --------- 149.2/198.6 MB 21.1 MB/s eta 0:00:03\n",
      "   ----------------------------- --------- 150.4/198.6 MB 23.4 MB/s eta 0:00:03\n",
      "   ----------------------------- --------- 151.5/198.6 MB 23.4 MB/s eta 0:00:03\n",
      "   ----------------------------- --------- 152.7/198.6 MB 23.4 MB/s eta 0:00:02\n",
      "   ------------------------------ -------- 153.7/198.6 MB 23.4 MB/s eta 0:00:02\n",
      "   ------------------------------ -------- 154.9/198.6 MB 23.4 MB/s eta 0:00:02\n",
      "   ------------------------------ -------- 156.0/198.6 MB 24.2 MB/s eta 0:00:02\n",
      "   ------------------------------ -------- 157.2/198.6 MB 24.2 MB/s eta 0:00:02\n",
      "   ------------------------------- ------- 158.3/198.6 MB 24.3 MB/s eta 0:00:02\n",
      "   ------------------------------- ------- 159.1/198.6 MB 23.4 MB/s eta 0:00:02\n",
      "   ------------------------------- ------- 160.3/198.6 MB 23.4 MB/s eta 0:00:02\n",
      "   ------------------------------- ------- 161.3/198.6 MB 23.4 MB/s eta 0:00:02\n",
      "   ------------------------------- ------- 162.4/198.6 MB 23.4 MB/s eta 0:00:02\n",
      "   -------------------------------- ------ 163.4/198.6 MB 23.4 MB/s eta 0:00:02\n",
      "   -------------------------------- ------ 164.3/198.6 MB 22.6 MB/s eta 0:00:02\n",
      "   -------------------------------- ------ 165.4/198.6 MB 22.5 MB/s eta 0:00:02\n",
      "   -------------------------------- ------ 166.6/198.6 MB 22.6 MB/s eta 0:00:02\n",
      "   -------------------------------- ------ 167.6/198.6 MB 22.6 MB/s eta 0:00:02\n",
      "   --------------------------------- ----- 168.5/198.6 MB 21.8 MB/s eta 0:00:02\n",
      "   --------------------------------- ----- 169.6/198.6 MB 22.6 MB/s eta 0:00:02\n",
      "   --------------------------------- ----- 170.8/198.6 MB 22.6 MB/s eta 0:00:02\n",
      "   --------------------------------- ----- 172.1/198.6 MB 23.4 MB/s eta 0:00:02\n",
      "   ---------------------------------- ---- 173.2/198.6 MB 23.4 MB/s eta 0:00:02\n",
      "   ---------------------------------- ---- 174.4/198.6 MB 23.4 MB/s eta 0:00:02\n",
      "   ---------------------------------- ---- 175.5/198.6 MB 24.3 MB/s eta 0:00:01\n",
      "   ---------------------------------- ---- 176.8/198.6 MB 24.2 MB/s eta 0:00:01\n",
      "   ---------------------------------- ---- 178.0/198.6 MB 25.2 MB/s eta 0:00:01\n",
      "   ----------------------------------- --- 179.0/198.6 MB 25.2 MB/s eta 0:00:01\n",
      "   ----------------------------------- --- 180.2/198.6 MB 25.2 MB/s eta 0:00:01\n",
      "   ----------------------------------- --- 181.5/198.6 MB 25.2 MB/s eta 0:00:01\n",
      "   ----------------------------------- --- 182.7/198.6 MB 25.1 MB/s eta 0:00:01\n",
      "   ------------------------------------ -- 183.9/198.6 MB 25.1 MB/s eta 0:00:01\n",
      "   ------------------------------------ -- 185.1/198.6 MB 25.2 MB/s eta 0:00:01\n",
      "   ------------------------------------ -- 186.4/198.6 MB 25.2 MB/s eta 0:00:01\n",
      "   ------------------------------------ -- 187.7/198.6 MB 25.2 MB/s eta 0:00:01\n",
      "   ------------------------------------- - 188.7/198.6 MB 26.2 MB/s eta 0:00:01\n",
      "   ------------------------------------- - 190.1/198.6 MB 26.2 MB/s eta 0:00:01\n",
      "   ------------------------------------- - 191.3/198.6 MB 27.3 MB/s eta 0:00:01\n",
      "   ------------------------------------- - 192.2/198.6 MB 25.1 MB/s eta 0:00:01\n",
      "   --------------------------------------  193.5/198.6 MB 26.2 MB/s eta 0:00:01\n",
      "   --------------------------------------  194.0/198.6 MB 25.2 MB/s eta 0:00:01\n",
      "   --------------------------------------  194.0/198.6 MB 25.2 MB/s eta 0:00:01\n",
      "   --------------------------------------  194.0/198.6 MB 25.2 MB/s eta 0:00:01\n",
      "   --------------------------------------  194.2/198.6 MB 18.7 MB/s eta 0:00:01\n",
      "   --------------------------------------  195.5/198.6 MB 18.7 MB/s eta 0:00:01\n",
      "   --------------------------------------  196.9/198.6 MB 18.7 MB/s eta 0:00:01\n",
      "   --------------------------------------  198.1/198.6 MB 18.7 MB/s eta 0:00:01\n",
      "   --------------------------------------  198.6/198.6 MB 18.7 MB/s eta 0:00:01\n",
      "   --------------------------------------  198.6/198.6 MB 18.7 MB/s eta 0:00:01\n",
      "   --------------------------------------  198.6/198.6 MB 18.7 MB/s eta 0:00:01\n",
      "   --------------------------------------  198.6/198.6 MB 18.7 MB/s eta 0:00:01\n",
      "   --------------------------------------  198.6/198.6 MB 18.7 MB/s eta 0:00:01\n",
      "   --------------------------------------  198.6/198.6 MB 18.7 MB/s eta 0:00:01\n",
      "   --------------------------------------  198.6/198.6 MB 18.7 MB/s eta 0:00:01\n",
      "   --------------------------------------- 198.6/198.6 MB 11.5 MB/s eta 0:00:00\n",
      "Downloading transformers-4.37.2-py3-none-any.whl (8.4 MB)\n",
      "   ---------------------------------------- 0.0/8.4 MB ? eta -:--:--\n",
      "   ------- -------------------------------- 1.5/8.4 MB 48.2 MB/s eta 0:00:01\n",
      "   ----------- ---------------------------- 2.5/8.4 MB 31.9 MB/s eta 0:00:01\n",
      "   ---------------- ----------------------- 3.5/8.4 MB 27.9 MB/s eta 0:00:01\n",
      "   ---------------------- ----------------- 4.8/8.4 MB 27.6 MB/s eta 0:00:01\n",
      "   ---------------------------- ----------- 6.0/8.4 MB 27.5 MB/s eta 0:00:01\n",
      "   ----------------------------------- ---- 7.4/8.4 MB 27.8 MB/s eta 0:00:01\n",
      "   ---------------------------------------  8.4/8.4 MB 28.2 MB/s eta 0:00:01\n",
      "   ---------------------------------------- 8.4/8.4 MB 24.4 MB/s eta 0:00:00\n",
      "Downloading safetensors-0.4.2-cp310-none-win_amd64.whl (269 kB)\n",
      "   ---------------------------------------- 0.0/269.5 kB ? eta -:--:--\n",
      "   ---------------------------------------- 269.5/269.5 kB 8.4 MB/s eta 0:00:00\n",
      "Downloading networkx-3.2.1-py3-none-any.whl (1.6 MB)\n",
      "   ---------------------------------------- 0.0/1.6 MB ? eta -:--:--\n",
      "   ---------------------------- ----------- 1.2/1.6 MB 24.8 MB/s eta 0:00:01\n",
      "   ---------------------------------------- 1.6/1.6 MB 21.0 MB/s eta 0:00:00\n",
      "Installing collected packages: sentencepiece, safetensors, networkx, torch, nltk, transformers, sentence-transformers\n",
      "Successfully installed networkx-3.2.1 nltk-3.8.1 safetensors-0.4.2 sentence-transformers-2.3.1 sentencepiece-0.1.99 torch-2.2.0 transformers-4.37.2\n"
     ]
    },
    {
     "name": "stderr",
     "output_type": "stream",
     "text": [
      "\n",
      "[notice] A new release of pip is available: 23.3.1 -> 24.0\n",
      "[notice] To update, run: python.exe -m pip install --upgrade pip\n"
     ]
    }
   ],
   "source": [
    "#!pip install sentence-transformers"
   ]
  },
  {
   "cell_type": "code",
   "execution_count": 8,
   "id": "c2a13d14-4484-46f0-8e67-277337f9d138",
   "metadata": {
    "height": 114
   },
   "outputs": [
    {
     "data": {
      "application/vnd.jupyter.widget-view+json": {
       "model_id": "8f1c3a04dfce44d9b0cac57c226ac6ee",
       "version_major": 2,
       "version_minor": 0
      },
      "text/plain": [
       "modules.json:   0%|          | 0.00/349 [00:00<?, ?B/s]"
      ]
     },
     "metadata": {},
     "output_type": "display_data"
    },
    {
     "data": {
      "application/vnd.jupyter.widget-view+json": {
       "model_id": "4194042a127f48459a6d59e315e201a5",
       "version_major": 2,
       "version_minor": 0
      },
      "text/plain": [
       "config_sentence_transformers.json:   0%|          | 0.00/116 [00:00<?, ?B/s]"
      ]
     },
     "metadata": {},
     "output_type": "display_data"
    },
    {
     "data": {
      "application/vnd.jupyter.widget-view+json": {
       "model_id": "aa0f19f60cdb43248fddfddc4db12eb7",
       "version_major": 2,
       "version_minor": 0
      },
      "text/plain": [
       "README.md:   0%|          | 0.00/10.6k [00:00<?, ?B/s]"
      ]
     },
     "metadata": {},
     "output_type": "display_data"
    },
    {
     "data": {
      "application/vnd.jupyter.widget-view+json": {
       "model_id": "93cb2ec6e9dd4ddd9f6c20b345111125",
       "version_major": 2,
       "version_minor": 0
      },
      "text/plain": [
       "sentence_bert_config.json:   0%|          | 0.00/53.0 [00:00<?, ?B/s]"
      ]
     },
     "metadata": {},
     "output_type": "display_data"
    },
    {
     "data": {
      "application/vnd.jupyter.widget-view+json": {
       "model_id": "1aa13e31b31b45c9ae6bbfb2164240b2",
       "version_major": 2,
       "version_minor": 0
      },
      "text/plain": [
       "config.json:   0%|          | 0.00/612 [00:00<?, ?B/s]"
      ]
     },
     "metadata": {},
     "output_type": "display_data"
    },
    {
     "data": {
      "application/vnd.jupyter.widget-view+json": {
       "model_id": "3b2190cf38bf45e788f5662e9a82a07f",
       "version_major": 2,
       "version_minor": 0
      },
      "text/plain": [
       "pytorch_model.bin:   0%|          | 0.00/90.9M [00:00<?, ?B/s]"
      ]
     },
     "metadata": {},
     "output_type": "display_data"
    },
    {
     "data": {
      "application/vnd.jupyter.widget-view+json": {
       "model_id": "bee7a7203b6a41708bbb1aa1975159e5",
       "version_major": 2,
       "version_minor": 0
      },
      "text/plain": [
       "tokenizer_config.json:   0%|          | 0.00/350 [00:00<?, ?B/s]"
      ]
     },
     "metadata": {},
     "output_type": "display_data"
    },
    {
     "data": {
      "application/vnd.jupyter.widget-view+json": {
       "model_id": "b2234eec21af40eda96b88367541af39",
       "version_major": 2,
       "version_minor": 0
      },
      "text/plain": [
       "vocab.txt:   0%|          | 0.00/232k [00:00<?, ?B/s]"
      ]
     },
     "metadata": {},
     "output_type": "display_data"
    },
    {
     "data": {
      "application/vnd.jupyter.widget-view+json": {
       "model_id": "781ec98a364e4805aa66499fbbc81c50",
       "version_major": 2,
       "version_minor": 0
      },
      "text/plain": [
       "tokenizer.json:   0%|          | 0.00/466k [00:00<?, ?B/s]"
      ]
     },
     "metadata": {},
     "output_type": "display_data"
    },
    {
     "data": {
      "application/vnd.jupyter.widget-view+json": {
       "model_id": "b63a883bcbd045cc8f44e6f6fb7db74b",
       "version_major": 2,
       "version_minor": 0
      },
      "text/plain": [
       "special_tokens_map.json:   0%|          | 0.00/112 [00:00<?, ?B/s]"
      ]
     },
     "metadata": {},
     "output_type": "display_data"
    },
    {
     "data": {
      "application/vnd.jupyter.widget-view+json": {
       "model_id": "f3bd499ba8f64c85b53ce6de353c738b",
       "version_major": 2,
       "version_minor": 0
      },
      "text/plain": [
       "1_Pooling/config.json:   0%|          | 0.00/190 [00:00<?, ?B/s]"
      ]
     },
     "metadata": {},
     "output_type": "display_data"
    },
    {
     "name": "stdout",
     "output_type": "stream",
     "text": [
      "[[0.034795697778463364, 0.03435617312788963, 0.03289111331105232, -0.03873876482248306, 0.06341403722763062, -0.0850892961025238, -0.021113932132720947, -0.0007384665077552199, -0.015392144210636616, 0.0662095919251442, -0.04887473210692406, -0.04278856888413429, 0.0504138357937336, 0.09431514143943787, -0.06643617898225784, 0.040074657648801804, -0.00949668139219284, -0.01905546709895134, -0.05321475490927696, -0.028712060302495956, 0.03323887661099434, 0.025309544056653976, 0.021832535043358803, -0.005691112484782934, -0.03558868542313576, -0.0008810007711872458, -0.02706027217209339, 0.007966084405779839, -0.024463998153805733, -0.021159255877137184, 0.03925781697034836, 0.02164357528090477, 0.023684099316596985, -0.06482041627168655, 0.04994101822376251, 0.08095806837081909, -0.03455090522766113, -0.0004893835284747183, -0.025215696543455124, -0.03278160095214844, -0.006074866279959679, -0.08005762100219727, 0.011990897357463837, -0.0012270425213500857, -0.02252425067126751, -0.02080395072698593, -0.006681814324110746, -0.03496284782886505, -0.007643185555934906, -0.03813654184341431, 0.16627930104732513, -0.054870765656232834, -0.04006195440888405, -0.008991778828203678, -0.042919889092445374, -0.06125330924987793, 0.017705637961626053, -0.02499772422015667, -0.0538146086037159, -0.02417796291410923, 0.05666223168373108, -0.07073111087083817, 0.00827410351485014, -0.047989893704652786, 0.0804964229464531, 0.033300988376140594, -0.037087105214595795, 0.03603469952940941, -0.09915018826723099, 0.028761204332113266, -0.05349200591444969, 0.0023351898416876793, -0.03485393151640892, -0.05378322675824165, -0.028914710506796837, 0.015006820671260357, 0.016201796010136604, 0.07875099033117294, 0.06624572724103928, 0.013661897741258144, 0.02479797787964344, -0.0027940780855715275, 0.00872147735208273, 0.005567895248532295, -0.06811123341321945, 0.036770135164260864, 0.0014716068981215358, 0.016527164727449417, 0.055179327726364136, -0.0633661076426506, -0.09391883760690689, 0.0012863880256190896, 0.12960445880889893, 0.004626417066901922, -0.07577100396156311, 0.05773116275668144, -0.06428161263465881, -0.07572692632675171, -0.043918538838624954, -0.02492005191743374, 0.00933361891657114, 0.09372545778751373, 0.05731029808521271, -0.08410728722810745, 0.04331878200173378, -0.03861061856150627, 0.015452289022505283, 0.10286042839288712, 0.0295118261128664, -0.01868768408894539, -0.025421325117349625, -0.03251805528998375, 0.0004648916656151414, 0.0375993549823761, -0.023608531802892685, 0.05983787775039673, -0.04063365235924721, -0.01769157312810421, 0.019860494881868362, -0.016880905255675316, 0.022099759429693222, 0.0015543950721621513, -0.05922917649149895, -0.01239832118153572, 0.05263326317071915, 0.07092844694852829, 0.017547139897942543, 3.234021160008231e-33, -0.03379729390144348, 0.017212538048624992, 0.09272726625204086, -0.0014238225994631648, -0.008483918383717537, -0.09289297461509705, 0.011852541007101536, 0.014181205071508884, 0.020049620419740677, -0.04418599605560303, 0.006779263261705637, 0.02982267364859581, -0.02107483707368374, 0.08011380583047867, 0.03987160325050354, -0.1427530199289322, 0.05397459864616394, 0.020598886534571648, 0.029637286439538002, -0.03497978672385216, -0.016190018504858017, -0.05418747290968895, -0.012783595360815525, -0.06771674752235413, 0.11001133173704147, -0.08768784254789352, -0.0032497846987098455, -0.010487821884453297, -0.009010184556245804, -0.01955844648182392, 0.007004230283200741, 0.0910513624548912, -0.009656929410994053, 0.005884956568479538, -0.01860327459871769, 0.024830883368849754, -0.020218364894390106, 0.04427134990692139, -0.004683988634496927, 0.03725640848278999, -0.06094833090901375, 0.07376287132501602, -0.008930345997214317, -0.056500039994716644, 0.0658099576830864, -0.022664804011583328, 0.10675812512636185, -0.030401363968849182, 0.0010825470089912415, 0.03134279325604439, 0.04796365275979042, 0.09706797450780869, -0.11934692412614822, 0.060984645038843155, -0.04045236483216286, -0.0970996543765068, 0.0522320456802845, -0.08181416988372803, -0.007075410336256027, -0.011303889565169811, -0.07627683877944946, 0.021350428462028503, -0.03568074107170105, 0.014248195104300976, -0.05256913974881172, 0.047455549240112305, 0.09198429435491562, 0.02023848332464695, 0.03031037747859955, 0.018659282475709915, -0.050197847187519073, -0.03815247863531113, -0.00894076842814684, -0.022392794489860535, 0.01064112689346075, -0.016385430470108986, 0.018123745918273926, -0.02096046879887581, 0.009937945753335953, 0.031886860728263855, -0.00774044543504715, 0.009604189544916153, 0.013222266919910908, -0.04096660763025284, 0.059534020721912384, -0.06515069305896759, 0.024728935211896896, 0.03830062225461006, 0.03806509077548981, -0.017834996804594994, -0.008893397636711597, -0.013228763826191425, 0.025192173197865486, -0.02035028487443924, -0.011295062489807606, -4.034985010901291e-33, 0.021842584013938904, 0.04458903893828392, -0.0506247915327549, 0.07086951285600662, 0.03288234770298004, -0.017339365556836128, 0.035857800394296646, -0.027465999126434326, 0.03005804307758808, -0.00692502036690712, -0.08657369762659073, 0.10495921224355698, 0.03862817957997322, 0.039361629635095596, -0.03818708285689354, -0.0766502171754837, 0.017532816156744957, -0.031037671491503716, -0.039323944598436356, -0.06849405169487, 0.044352032244205475, 0.05699912831187248, 0.004292038735002279, -0.0002990053908433765, -0.0756484717130661, 0.07767681777477264, -0.04002192243933678, 0.014089267700910568, 0.04251417890191078, -0.0068153031170368195, -0.10449766367673874, 0.04771101847290993, 0.007011550944298506, -0.05550689995288849, -0.03330313041806221, -0.096644826233387, 0.016908694058656693, 0.06813492625951767, -0.017200717702507973, 0.0034932971466332674, 0.05836271122097969, -0.07421610504388809, -0.023993222042918205, -0.03479455038905144, -0.058725349605083466, -0.008447223342955112, 0.030711600556969643, -0.011358610354363918, 0.05185048654675484, 0.0030431831255555153, -0.005067906808108091, 0.048145025968551636, -0.04974423721432686, 0.04178834334015846, 0.02931314706802368, 0.01749832183122635, 0.10017817467451096, -0.011307451874017715, -0.027703067287802696, 0.020155346021056175, -0.047927793115377426, 0.10136717557907104, 0.016510754823684692, 0.023222660645842552, -0.035901427268981934, 0.0075286561623215675, 0.057684410363435745, 0.08006153255701065, -0.02939804270863533, -0.029511306434869766, -0.03157626464962959, -0.02363445609807968, 0.013120085932314396, -0.07867413014173508, -0.02216467820107937, -0.03971828147768974, -0.019113382324576378, -0.020097807049751282, -0.014459643512964249, 0.01875930279493332, -0.03182988613843918, 0.10686846077442169, -0.006063431967049837, -0.02773328870534897, 0.1428399682044983, -0.05985189974308014, -0.04684968665242195, -0.1492810994386673, 0.022831561043858528, 0.13341589272022247, -0.08064140379428864, -0.03345850482583046, -0.09014642238616943, 0.06934233009815216, 0.051750581711530685, -5.085778198576918e-08, -0.0076620508916676044, 0.057195212692022324, 0.021514033898711205, 0.07223023474216461, 0.03585793450474739, -0.06530864536762238, 0.05409277603030205, 0.16531099379062653, 0.0297237541526556, 0.029625343158841133, 0.06635988503694534, -0.0005292256828397512, -0.04975138604640961, 0.007900980301201344, -0.021658487617969513, 0.0368017740547657, 0.04341590404510498, -0.06785876303911209, -0.060901910066604614, -0.039963286370038986, -0.015280851162970066, -0.03131644427776337, -0.07882829010486603, -0.0511484257876873, 0.04686425253748894, -0.0511334165930748, 0.07882096618413925, 0.06575630605220795, -0.00021361588733270764, -0.03710100054740906, 0.025469394400715828, -0.006874202284961939, -0.02833135612308979, 0.004797462373971939, 0.01697411574423313, 0.003322045551612973, 0.022502781823277473, 0.040201932191848755, -0.018921326845884323, 0.032668497413396835, -0.07526747137308121, 0.0322641097009182, 0.012100712396204472, -0.024858258664608, -0.018755121156573296, -0.0067748078145086765, -0.1859644055366516, 0.00656649237498641, 0.03066580556333065, -0.037260543555021286, -0.011038637720048428, -0.015606934204697609, 0.015015664510428905, 0.08454667031764984, 0.12183768302202225, 0.054888978600502014, -0.05513138696551323, -0.018791716545820236, -0.054939981549978256, 0.10657352209091187, 0.05937694013118744, -0.10134616494178772, -0.02383689023554325, -0.02347716875374317]]\n"
     ]
    }
   ],
   "source": [
    "import chromadb\n",
    "from chromadb.utils.embedding_functions import SentenceTransformerEmbeddingFunction\n",
    "\n",
    "embedding_function = SentenceTransformerEmbeddingFunction()\n",
    "print(embedding_function([token_split_texts[10]]))"
   ]
  },
  {
   "cell_type": "code",
   "execution_count": 13,
   "id": "efe1ff41-1c11-4da1-a6c1-1dd69ffd6955",
   "metadata": {},
   "outputs": [
    {
     "name": "stdout",
     "output_type": "stream",
     "text": [
      "349\n"
     ]
    }
   ],
   "source": [
    "chroma_client = chromadb.Client()\n",
    "chroma_collection = chroma_client.create_collection(\"microsoft_annual_report_2022\", embedding_function=embedding_function)"
   ]
  },
  {
   "cell_type": "code",
   "execution_count": 20,
   "id": "ce8d1f81-a6a7-49d2-88f7-3da1a5847df8",
   "metadata": {},
   "outputs": [],
   "source": [
    "chunk1 = token_split_texts[:166]"
   ]
  },
  {
   "cell_type": "code",
   "execution_count": 22,
   "id": "b850e4c9-44d8-4f2e-acc8-0ca9ff58433a",
   "metadata": {},
   "outputs": [],
   "source": [
    "chunk2 = token_split_texts[166:332]"
   ]
  },
  {
   "cell_type": "code",
   "execution_count": 24,
   "id": "d050c28b-5857-4c38-b1f0-633323881456",
   "metadata": {},
   "outputs": [],
   "source": [
    "chunk3 = token_split_texts[332:]"
   ]
  },
  {
   "cell_type": "code",
   "execution_count": 35,
   "id": "09c1d06e-49d8-4062-85cd-57ce2517032c",
   "metadata": {},
   "outputs": [],
   "source": [
    "ids = [str(i) for i in range(len(chunk1))]\n",
    "\n",
    "chroma_collection.add(ids=ids, documents=chunk1)"
   ]
  },
  {
   "cell_type": "code",
   "execution_count": 36,
   "id": "71e8212b-7013-439d-bcaf-035a8d1007a3",
   "metadata": {},
   "outputs": [],
   "source": [
    "ids = [str(i) for i in range(len(chunk1), len(chunk1)+len(chunk2))]\n",
    "\n",
    "chroma_collection.add(ids=ids, documents=chunk2)"
   ]
  },
  {
   "cell_type": "code",
   "execution_count": 37,
   "id": "818bf136-cca0-4865-83ca-eb2ec7e7e2cf",
   "metadata": {},
   "outputs": [],
   "source": [
    "ids = [str(i) for i in range(len(chunk1)+len(chunk2), len(chunk1)+len(chunk2)+len(chunk3))]\n",
    "\n",
    "chroma_collection.add(ids=ids, documents=chunk3)"
   ]
  },
  {
   "cell_type": "code",
   "execution_count": 38,
   "id": "6d4fbdda-01e1-4829-9931-d7e0cbe17f96",
   "metadata": {},
   "outputs": [
    {
     "data": {
      "text/plain": [
       "349"
      ]
     },
     "execution_count": 38,
     "metadata": {},
     "output_type": "execute_result"
    }
   ],
   "source": [
    "chroma_collection.count()"
   ]
  },
  {
   "cell_type": "code",
   "execution_count": 40,
   "id": "bfdb54db-a442-423c-b006-c33a257cd7d7",
   "metadata": {
    "height": 165
   },
   "outputs": [
    {
     "name": "stdout",
     "output_type": "stream",
     "text": [
      "['revenue, classified by significant product and service offerings, was', 'as follows : ( in millions ) year ended june 30, 2022 2021 2020 server', 'products and cloud services $ 67, 321 $ 52, 589 $ 41, 379 office', 'products and cloud services 44, 862 39, 872 35, 316 windows 24, 761', '22, 488 21, 510 gaming 16, 230 15, 370 11, 575 linkedin 13, 816 10,', '289 8, 077 search and news advertising 11, 591 9, 267 8, 524', 'enterprise services 7, 407 6, 943 6, 409 devices 6, 991 6, 791 6, 457', 'other 5, 291 4, 479 3, 768 total $ 198, 270 $ 168, 088 $ 143, 015 we', 'have recast certain previously reported amounts in the table above to', 'conform to the way we internally manage and monitor our business.']\n",
      "\n",
      "\n",
      "['74 note 13 — unearned revenue unearned revenue by segment was as fo', 'llows : ( in millions ) june 30, 2022 2021 productivity and business', 'processes $ 24, 558 $ 22, 120 intelligent cloud 19, 371 17, 710 more', 'personal computing 4, 479 4, 311 total $ 48, 408 $ 44, 141 changes in', 'unearned revenue were as follows : ( in millions ) year ended june 30,', '2022 balance, beginning of period $ 44, 141 deferral of revenue 110,', '455 recognition of unearned revenue ( 106, 188 ) balance, end of', 'period $ 48, 408 revenue allocated to remaining performance', 'obligations, which includes unearned revenue and amounts that will be', 'invoiced and recognized as revenue in future periods, was $ 193', 'billion as of june 30, 2022, of which $ 189 billion is related to the', 'commercial portion of revenue. we expect to recognize approximately 45', '% of this revenue over the next 12']\n",
      "\n",
      "\n",
      "['that are not sold separately. • we tested the mathematical accuracy of', 'management ’ s calculations of revenue and the associated timing of', 'revenue recognized in the financial statements.']\n",
      "\n",
      "\n",
      "['47 financial statements and supplementary data income statements ( in', 'millions, except per share amounts ) year ended june 30, 2022 2021', '2020 revenue : product $ 72, 732 $ 71, 074 $ 68, 041 service and other', '125, 538 97, 014 74, 974 total revenue 198, 270 168, 088 143, 015 cost', 'of revenue : product 19, 064 18, 219 16, 017 service and other 43, 586', '34, 013 30, 061 total cost of revenue 62, 650 52, 232 46, 078 gross', 'margin 135, 620 115, 856 96, 937 research and development 24, 512 20,', '716 19, 269 sales and marketing 21, 825 20, 117 19, 598 general and', 'administrative 5, 900 5, 107 5, 111 operating income 83, 383 69, 916', '52, 959 other income, net 333 1, 186 77 income before income taxes 83,', '716 71, 102 53, 036 provision for income taxes 10, 978 9, 831 8, 755']\n",
      "\n",
      "\n",
      "['82 in addition, certain costs incurred at a corporate level that are', 'identifiable and that benefit our segments are allocated to them.', 'these allocated costs inc lude legal, including settlements and fines,', 'information technology, human resources, finance, excise taxes, field', 'selling, shared facilities services, and customer service and support.', 'each allocation is measured differently based on the specific facts an', 'd circumstances of the costs being allocated. segment revenue and', 'operating income were as follows during the periods presented : ( in', 'millions ) year ended june 30, 2022 2021 2020 revenue productivity and', 'business processes $ 63, 364 $ 53, 915 $ 46, 398 intelligent cloud 75,', '251 60, 080 48, 366 more personal computing 59, 655 54, 093 48, 251', 'total $ 198, 270 $ 168, 088 $ 143, 015 operating income']\n",
      "\n",
      "\n"
     ]
    }
   ],
   "source": [
    "query = \"What was the total revenue?\"\n",
    "\n",
    "results = chroma_collection.query(query_texts=[query], n_results=5)\n",
    "retrieved_documents = results['documents'][0]\n",
    "\n",
    "for document in retrieved_documents:\n",
    "    print(textwrap.wrap(document))\n",
    "    print('\\n')"
   ]
  },
  {
   "cell_type": "code",
   "execution_count": 51,
   "id": "377a84aa-1d93-4e97-9b2d-d59c46355338",
   "metadata": {
    "height": 182
   },
   "outputs": [],
   "source": [
    "import os\n",
    "import openai\n",
    "from openai import AzureOpenAI\n",
    "\n",
    "from dotenv import load_dotenv, find_dotenv\n",
    "_ = load_dotenv(find_dotenv()) # read local .env file\n",
    "openai.api_key = os.environ['AZURE_OPENAI_API_KEY']\n",
    "openai.api_version = \"2023-06-01-preview\"\n",
    "\n",
    "openai_client = AzureOpenAI(azure_endpoint = \"https://srinath-exploratory.openai.azure.com/\",\n",
    "                            api_version = \"2023-06-01-preview\")"
   ]
  },
  {
   "cell_type": "code",
   "execution_count": 66,
   "id": "ba0ed8ca-6640-4c09-9cb3-9de5e7cf46dc",
   "metadata": {
    "height": 335
   },
   "outputs": [],
   "source": [
    "def rag(query, retrieved_documents, model=\"gpt-3.5-turbo\"):\n",
    "    information = \"\\n\\n\".join(retrieved_documents)\n",
    "\n",
    "    messages = [\n",
    "        {\n",
    "            \"role\": \"system\",\n",
    "            \"content\": \"You are a helpful expert financial research assistant. Your users are asking questions about information contained in an annual report.\"\n",
    "            \"You will be shown the user's question, and the relevant information from the annual report. Answer the user's question using only this information.\"\n",
    "        },\n",
    "        {\"role\": \"user\", \"content\": f\"Question: {query}. \\n Information: {information}\"}\n",
    "    ]\n",
    "\n",
    "    #response = openai.ChatCompletion.create(\n",
    "    response = openai_client.chat.completions.create(\n",
    "        model = \"exploratory-deployment\",\n",
    "        messages=messages,\n",
    "    )\n",
    "    content = response.choices[0].message.content\n",
    "    return content"
   ]
  },
  {
   "cell_type": "code",
   "execution_count": 67,
   "id": "28bac3a2-0d29-48dc-9b48-2d9313239a25",
   "metadata": {
    "height": 80
   },
   "outputs": [
    {
     "name": "stdout",
     "output_type": "stream",
     "text": [
      "['The total revenue for the year ended June 30, 2022, was $198,270', 'million.']\n"
     ]
    }
   ],
   "source": [
    "output = rag(query=query, retrieved_documents=retrieved_documents)\n",
    "\n",
    "print(textwrap.wrap(output))"
   ]
  },
  {
   "cell_type": "code",
   "execution_count": null,
   "id": "db9f2758-0f5a-49e5-b1fa-517b91324575",
   "metadata": {
    "height": 29
   },
   "outputs": [],
   "source": []
  },
  {
   "cell_type": "code",
   "execution_count": null,
   "id": "aee59493-8a99-4da8-b94f-4747efcfc79d",
   "metadata": {
    "height": 29
   },
   "outputs": [],
   "source": []
  },
  {
   "cell_type": "code",
   "execution_count": null,
   "id": "f5eda9bc-ae76-4db6-9e0c-ae099d852d78",
   "metadata": {
    "height": 29
   },
   "outputs": [],
   "source": []
  },
  {
   "cell_type": "code",
   "execution_count": null,
   "id": "b1183e75-4c65-422e-bc47-48010d8b29c9",
   "metadata": {
    "height": 29
   },
   "outputs": [],
   "source": []
  },
  {
   "cell_type": "code",
   "execution_count": null,
   "id": "5fcd85cc-8898-41ed-a0aa-bd8a33fc565a",
   "metadata": {
    "height": 29
   },
   "outputs": [],
   "source": []
  },
  {
   "cell_type": "code",
   "execution_count": null,
   "id": "c65337e9-85ee-47f7-89fd-7fe77cd0e1b2",
   "metadata": {
    "height": 29
   },
   "outputs": [],
   "source": []
  },
  {
   "cell_type": "code",
   "execution_count": null,
   "id": "a7794092-4195-4cf3-9eab-11c9c05a26b9",
   "metadata": {
    "height": 29
   },
   "outputs": [],
   "source": []
  },
  {
   "cell_type": "code",
   "execution_count": null,
   "id": "f2cab7a1-1be7-45f0-83b7-543e48f83901",
   "metadata": {
    "height": 29
   },
   "outputs": [],
   "source": []
  },
  {
   "cell_type": "code",
   "execution_count": null,
   "id": "fe0343be-73c9-4aed-83b0-aba09569ac87",
   "metadata": {
    "height": 29
   },
   "outputs": [],
   "source": []
  },
  {
   "cell_type": "code",
   "execution_count": null,
   "id": "6f0f3e33-e517-4f6b-8b38-c47c1e3d40b4",
   "metadata": {
    "height": 29
   },
   "outputs": [],
   "source": []
  },
  {
   "cell_type": "code",
   "execution_count": null,
   "id": "a16fdcb1-57d0-4f04-af8f-7c7fc594d947",
   "metadata": {
    "height": 29
   },
   "outputs": [],
   "source": []
  },
  {
   "cell_type": "code",
   "execution_count": null,
   "id": "babe7893-9cbc-43c5-94ef-cbf8f5d68cf2",
   "metadata": {
    "height": 29
   },
   "outputs": [],
   "source": []
  },
  {
   "cell_type": "code",
   "execution_count": null,
   "id": "60a9524b-1085-4bdf-a161-39f11397dc1f",
   "metadata": {
    "height": 29
   },
   "outputs": [],
   "source": []
  },
  {
   "cell_type": "code",
   "execution_count": null,
   "id": "d189f088-b58e-4583-9590-afdfa624cf87",
   "metadata": {
    "height": 29
   },
   "outputs": [],
   "source": []
  },
  {
   "cell_type": "code",
   "execution_count": null,
   "id": "7b26a01a-4575-446b-b8dc-a8c5ab153172",
   "metadata": {
    "height": 29
   },
   "outputs": [],
   "source": []
  },
  {
   "cell_type": "code",
   "execution_count": null,
   "id": "0950575b-b69d-46a3-8c91-c7af89f5c204",
   "metadata": {
    "height": 29
   },
   "outputs": [],
   "source": []
  },
  {
   "cell_type": "code",
   "execution_count": null,
   "id": "3f123ad8-b2e8-4a25-8b42-a520ecaf566b",
   "metadata": {
    "height": 29
   },
   "outputs": [],
   "source": []
  },
  {
   "cell_type": "code",
   "execution_count": null,
   "id": "83c04587-d1de-419c-a213-2e3eb67dc33d",
   "metadata": {
    "height": 29
   },
   "outputs": [],
   "source": []
  },
  {
   "cell_type": "code",
   "execution_count": null,
   "id": "d3155972-824e-4ebe-a692-2227c113c5a8",
   "metadata": {
    "height": 29
   },
   "outputs": [],
   "source": []
  },
  {
   "cell_type": "code",
   "execution_count": null,
   "id": "d8144a4a-85f6-4800-87f9-36a1b6ceda1f",
   "metadata": {
    "height": 29
   },
   "outputs": [],
   "source": []
  },
  {
   "cell_type": "code",
   "execution_count": null,
   "id": "8ff0b18e-12a0-4ac0-97dd-8618b22e7dbf",
   "metadata": {
    "height": 29
   },
   "outputs": [],
   "source": []
  },
  {
   "cell_type": "code",
   "execution_count": null,
   "id": "03ca7e7c-4b47-4652-9b46-a40b3dffa5e6",
   "metadata": {
    "height": 29
   },
   "outputs": [],
   "source": []
  },
  {
   "cell_type": "code",
   "execution_count": null,
   "id": "f74e7d67-7f51-41c4-8e25-edbaa02d0bd8",
   "metadata": {
    "height": 29
   },
   "outputs": [],
   "source": []
  },
  {
   "cell_type": "code",
   "execution_count": null,
   "id": "9188e886-d406-406f-b234-f5c3353a77a2",
   "metadata": {
    "height": 29
   },
   "outputs": [],
   "source": []
  },
  {
   "cell_type": "code",
   "execution_count": null,
   "id": "3d3bb286-2694-4ed4-8466-46865e997ced",
   "metadata": {
    "height": 29
   },
   "outputs": [],
   "source": []
  },
  {
   "cell_type": "code",
   "execution_count": null,
   "id": "2876084b-4038-4b0c-8ec8-8294a86adfc1",
   "metadata": {
    "height": 29
   },
   "outputs": [],
   "source": []
  },
  {
   "cell_type": "code",
   "execution_count": null,
   "id": "3ac542e1-b094-431f-9611-cf7e36d3f0de",
   "metadata": {
    "height": 29
   },
   "outputs": [],
   "source": []
  },
  {
   "cell_type": "code",
   "execution_count": null,
   "id": "bcd6114b-c09d-4173-a623-9a08aaf63e4b",
   "metadata": {
    "height": 29
   },
   "outputs": [],
   "source": []
  },
  {
   "cell_type": "code",
   "execution_count": null,
   "id": "ad10ab65-b351-4f4b-b7d2-63474acfb9f9",
   "metadata": {
    "height": 29
   },
   "outputs": [],
   "source": []
  },
  {
   "cell_type": "code",
   "execution_count": null,
   "id": "800f3d81-cbdb-4ba4-8d49-85747fdfded8",
   "metadata": {
    "height": 29
   },
   "outputs": [],
   "source": []
  },
  {
   "cell_type": "code",
   "execution_count": null,
   "id": "37847448-c9f6-4f51-bf06-f7809964a8b2",
   "metadata": {
    "height": 29
   },
   "outputs": [],
   "source": []
  },
  {
   "cell_type": "code",
   "execution_count": null,
   "id": "2dcefc87-0964-4b94-946b-2145781ad606",
   "metadata": {
    "height": 29
   },
   "outputs": [],
   "source": []
  },
  {
   "cell_type": "code",
   "execution_count": null,
   "id": "5fc994bc-7b1e-476a-9df9-300a3e374882",
   "metadata": {
    "height": 29
   },
   "outputs": [],
   "source": []
  },
  {
   "cell_type": "code",
   "execution_count": null,
   "id": "9ef5f5d5-acb7-4b0a-93ef-e61306708e69",
   "metadata": {
    "height": 29
   },
   "outputs": [],
   "source": []
  },
  {
   "cell_type": "code",
   "execution_count": null,
   "id": "44e4b33f-d8fb-4f3a-b884-8b43a3766583",
   "metadata": {
    "height": 29
   },
   "outputs": [],
   "source": []
  },
  {
   "cell_type": "code",
   "execution_count": null,
   "id": "c2a480a2-2c29-4a01-80dd-ee41934b7901",
   "metadata": {
    "height": 29
   },
   "outputs": [],
   "source": []
  },
  {
   "cell_type": "code",
   "execution_count": null,
   "id": "8127c2bf-0d15-4b62-b46a-f7a17ad2ec92",
   "metadata": {
    "height": 29
   },
   "outputs": [],
   "source": []
  },
  {
   "cell_type": "code",
   "execution_count": null,
   "id": "18ded129-a637-4269-a116-550fe9a90570",
   "metadata": {
    "height": 29
   },
   "outputs": [],
   "source": []
  },
  {
   "cell_type": "code",
   "execution_count": null,
   "id": "c1d7ee44-7b29-483f-a3f2-cc9d8e18880e",
   "metadata": {
    "height": 29
   },
   "outputs": [],
   "source": []
  },
  {
   "cell_type": "code",
   "execution_count": null,
   "id": "8e450dd8-9719-42c6-8c3c-33cac910e0a5",
   "metadata": {
    "height": 29
   },
   "outputs": [],
   "source": []
  }
 ],
 "metadata": {
  "kernelspec": {
   "display_name": "Python 3 (ipykernel)",
   "language": "python",
   "name": "python3"
  },
  "language_info": {
   "codemirror_mode": {
    "name": "ipython",
    "version": 3
   },
   "file_extension": ".py",
   "mimetype": "text/x-python",
   "name": "python",
   "nbconvert_exporter": "python",
   "pygments_lexer": "ipython3",
   "version": "3.10.2"
  }
 },
 "nbformat": 4,
 "nbformat_minor": 5
}
