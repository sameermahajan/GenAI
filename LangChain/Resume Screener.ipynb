{
 "cells": [
  {
   "cell_type": "markdown",
   "id": "155be065-5bc6-4622-a307-2086b9df1a41",
   "metadata": {},
   "source": [
    "# Resume Screener"
   ]
  },
  {
   "cell_type": "code",
   "execution_count": null,
   "id": "2cdba18b-b843-46c3-9582-dc918a32bb77",
   "metadata": {},
   "outputs": [],
   "source": [
    "from dotenv import load_dotenv, find_dotenv\n",
    "_ = load_dotenv(find_dotenv()) # read local .env file"
   ]
  },
  {
   "cell_type": "code",
   "execution_count": 2,
   "id": "4104b81d-fab8-4f78-a753-0a879d9fc6bb",
   "metadata": {},
   "outputs": [],
   "source": [
    "from langchain.document_loaders import TextLoader\n",
    "\n",
    "jd_loader = TextLoader(\"JD.txt\")"
   ]
  },
  {
   "cell_type": "code",
   "execution_count": 3,
   "id": "186e27ab-879f-4244-bbb7-bcd6a8bd1ee1",
   "metadata": {},
   "outputs": [],
   "source": [
    "from langchain.document_loaders import PyPDFLoader\n",
    "\n",
    "resume_loader = PyPDFLoader('Chat-with-Your-Data\\sameer_mahajan.pdf')"
   ]
  },
  {
   "cell_type": "code",
   "execution_count": 5,
   "id": "c4533b54-9827-4476-b6a4-e62611fca4af",
   "metadata": {},
   "outputs": [
    {
     "name": "stderr",
     "output_type": "stream",
     "text": [
      "C:\\GenerativeAI\\venv\\lib\\site-packages\\langchain_core\\_api\\deprecation.py:117: LangChainDeprecationWarning: The class `langchain_community.embeddings.azure_openai.AzureOpenAIEmbeddings` was deprecated in langchain-community 0.1.0 and will be removed in 0.2.0. An updated version of the class exists in the langchain-openai package and should be used instead. To use it run `pip install -U langchain-openai` and import as `from langchain_openai import AzureOpenAIEmbeddings`.\n",
      "  warn_deprecated(\n"
     ]
    }
   ],
   "source": [
    "import os\n",
    "from langchain.indexes import VectorstoreIndexCreator\n",
    "from langchain.embeddings.azure_openai import AzureOpenAIEmbeddings\n",
    "\n",
    "embedding = AzureOpenAIEmbeddings(\n",
    "    deployment = os.environ['AZURE_DEPLOYMENT'],\n",
    "    openai_api_version = \"2023-06-01-preview\",\n",
    "    openai_api_key = os.environ['AZURE_OPENAI_API_KEY'],\n",
    "    azure_endpoint = os.environ['AZURE_ENDPOINT'],\n","
   ]
  },
  {
   "cell_type": "code",
   "execution_count": 7,
   "id": "afb48ac3-ef7f-430e-8647-3942514b4dc1",
   "metadata": {},
   "outputs": [],
   "source": [
    "from langchain.vectorstores import DocArrayInMemorySearch\n",
    "\n",
    "jd = VectorstoreIndexCreator(\n",
    "    vectorstore_cls=DocArrayInMemorySearch,\n",
    "    embedding=embedding,\n",
    ").from_loaders([jd_loader])"
   ]
  },
  {
   "cell_type": "code",
   "execution_count": 14,
   "id": "e20d52ee-970a-4c52-a567-3cd0aad70327",
   "metadata": {},
   "outputs": [
    {
     "name": "stderr",
     "output_type": "stream",
     "text": [
      "C:\\GenerativeAI\\venv\\lib\\site-packages\\langchain_core\\_api\\deprecation.py:117: LangChainDeprecationWarning: The class `langchain_community.chat_models.azure_openai.AzureChatOpenAI` was deprecated in langchain-community 0.0.10 and will be removed in 0.2.0. An updated version of the class exists in the langchain-openai package and should be used instead. To use it run `pip install -U langchain-openai` and import as `from langchain_openai import AzureChatOpenAI`.\n",
      "  warn_deprecated(\n"
     ]
    },
    {
     "name": "stdout",
     "output_type": "stream",
     "text": [
      "- Job Title: Generative AI Architect\n",
      "- Department: Machine Learning\n",
      "- Responsibilities: Design and develop architecture for generative AI systems, work with team members to implement and deploy these systems, monitor and manage systems in production, develop best practices for building and managing AI systems, stay updated on latest AI research, collaborate with other engineers and product managers, and mentor junior engineers.\n",
      "- Qualifications: Master's degree in Computer Science, Artificial Intelligence, or a related field, 5+ years of experience in machine learning and generative AI, 10+ years of experience in software development.\n",
      "- Preferred Skills and Experience: Experience in designing and deploying scalable machine learning models, experience with various generative AI models and techniques, experience with deep learning models, experience with prompt engineering and machine learning optimization, experience with computer vision and natural language processing, experience with reinforcement learning, experience with distributed computing and scalable systems, experience with DevOps and CI/CD, experience with machine learning ethics, experience with generative AI applications in specific domains, excellent communication and interpersonal skills.\n",
      "- The role is with EY, a company that aims to build a better working world, helping to create long-term value for clients, people and society and build trust in the capital markets.\n",
      "- The Generative AI Architect will have the chance to build a unique career with global scale, support, inclusive culture and technology.\n"
     ]
    }
   ],
   "source": [
    "from langchain.chat_models import AzureChatOpenAI\n",
    "\n",
    "chat = AzureChatOpenAI(\n",
    "    azure_endpoint = os.environ['AZURE_ENDPOINT'],\n,
    "# openai_api_base=os.environ[\"OPENAI_ENDPOINT\"],\n",
    "    openai_api_version=\"2023-06-01-preview\",\n",
    "    deployment_name=os.environ['AZURE_DEPLOYMENT'],\n,
    "    openai_api_key=os.environ[\"AZURE_OPENAI_API_KEY\"],\n",
    "    openai_api_type = \"azure\",\n",
    "    temperature=0.0\n",
    ")\n",
    "print(jd.query(question=\"summarize this job description in bullet points\", llm=chat))"
   ]
  },
  {
   "cell_type": "code",
   "execution_count": 15,
   "id": "fe2f54ce-5abc-4b6a-a3e2-245e46662094",
   "metadata": {},
   "outputs": [],
   "source": [
    "resume = VectorstoreIndexCreator(\n",
    "    vectorstore_cls=DocArrayInMemorySearch,\n",
    "    embedding=embedding,\n",
    ").from_loaders([resume_loader])"
   ]
  },
  {
   "cell_type": "code",
   "execution_count": 16,
   "id": "548e538b-c829-4d8a-a211-142567e6a5b0",
   "metadata": {},
   "outputs": [
    {
     "name": "stdout",
     "output_type": "stream",
     "text": [
      "Yes, Sameer Mahajan has a Master's degree in Computer Science from Georgia Institute of Technology.\n"
     ]
    }
   ],
   "source": [
    "print(resume.query(question=\"does this person have Master's degree in computer science?\", llm=chat))"
   ]
  },
  {
   "cell_type": "code",
   "execution_count": 17,
   "id": "ef3fb495-7efe-42bf-822b-7355490e7bd1",
   "metadata": {},
   "outputs": [
    {
     "name": "stdout",
     "output_type": "stream",
     "text": [
      "This person has a wide range of skills, including:\n",
      "\n",
      "1. Software architecture, design, and development\n",
      "2. Generative AI and Machine Learning\n",
      "3. Cloud, Virtualization, Storage, Networking, Systems, Big data, and Analytics\n",
      "4. Programming in Golang, Python, Java, C#, C++, and C\n",
      "5. Operating systems: Linux, Windows\n",
      "6. Experience with SQL Server Storage Engine and WinFS Synchronization\n",
      "7. Experience with Software Defined Storage and Virtual Desktop Infrastructure (VDI)\n",
      "8. Knowledge of database availability, locking, and Distributed Transaction Coordination\n",
      "9. Experience with fuzzy checkpoint, logging and recovery optimizations, TPCC enhancements for XPS (Extended Parallel Server), and configurable page size\n",
      "10. Experience in identifying and prioritizing development projects, bug fixing, and code reviews.\n"
     ]
    }
   ],
   "source": [
    "print(resume.query(question=\"what are skills of thie person?\", llm=chat))"
   ]
  },
  {
   "cell_type": "code",
   "execution_count": 18,
   "id": "d5e81502-74e0-4ead-b9ba-dd28ab96aea5",
   "metadata": {},
   "outputs": [
    {
     "name": "stdout",
     "output_type": "stream",
     "text": [
      "This person has 27+ years of experience in software development.\n"
     ]
    }
   ],
   "source": [
    "print(resume.query(question=\"how many years of experience this person has in software development ?\", llm=chat))"
   ]
  },
  {
   "cell_type": "code",
   "execution_count": 19,
   "id": "4439eec5-fb0b-46aa-9bc0-5ae4f6b2dcb5",
   "metadata": {},
   "outputs": [
    {
     "name": "stdout",
     "output_type": "stream",
     "text": [
      "The text does not provide specific information on how many years of experience Sameer Mahajan has in machine learning.\n"
     ]
    }
   ],
   "source": [
    "print(resume.query(question=\"how many years of experience this person has in machine learning ?\", llm=chat))"
   ]
  },
  {
   "cell_type": "code",
   "execution_count": 21,
   "id": "096c6bc8-f94e-48a3-96e4-ec8d15c467dc",
   "metadata": {},
   "outputs": [
    {
     "name": "stdout",
     "output_type": "stream",
     "text": [
      "Based on the information provided, this person has experience in designing and deploying scalable machine learning models, as indicated by their work on AIOps platform and architecting ML solutions for several customers. They also have experience with generative AI models and techniques, as shown by their Fireside Chat on Generative AI with AWS and their role in driving the company's Generative AI Strategy. \n",
      "\n",
      "Their experience with deep learning models is suggested by their involvement in the Leapfrog in Deep Learning hands-on workshop. However, there is no specific mention of experience with prompt engineering and machine learning optimization, computer vision, natural language processing, reinforcement learning, or machine learning ethics.\n",
      "\n",
      "They have experience with distributed computing and scalable systems, as shown by their work on data migration from legacy systems to k8s based containerized systems and SSD accelerated storage for in-house openstack private cloud. They also have experience with DevOps and CI/CD, as indicated by their work with cloud technologies like terraform, nomad, and service proxy.\n",
      "\n",
      "Their excellent communication and interpersonal skills are demonstrated by their numerous presentations and webinars, as well as their role in mentoring machine learning foundations and Generative Adversarial Networks (GANs) courses on Coursera. \n",
      "\n",
      "There is no specific mention of experience with generative AI applications in specific domains.\n"
     ]
    }
   ],
   "source": [
    "print(resume.query(question=\" does this person have Experience in designing and deploying scalable machine learning models, experience with various generative AI models and techniques, experience with deep learning models, experience with prompt engineering and machine learning optimization, experience with computer vision and natural language processing, experience with reinforcement learning, experience with distributed computing and scalable systems, experience with DevOps and CI/CD, experience with machine learning ethics, experience with generative AI applications in specific domains, excellent communication and interpersonal skills?\", llm=chat))"
   ]
  },
  {
   "cell_type": "code",
   "execution_count": 22,
   "id": "3ab01a51-325e-4b7b-92c4-de385ac69a7a",
   "metadata": {},
   "outputs": [
    {
     "name": "stdout",
     "output_type": "stream",
     "text": [
      "Requisition ID:  1470295\n",
      "At EY, youâ€™ll have the chance to build a career as unique as you are, with the global scale, support, inclusive culture and technology to become the best version of you. And weâ€™re counting on your unique voice and perspective to help EY become even better, too. Join us and build an exceptional experience for yourself, and a better working world for all. \n",
      "\n",
      "Job Title: Generative AI Architect \n",
      "\n",
      "Department: Machine Learning\n",
      "\n",
      "Summary:\n",
      "\n",
      "We are looking for a Generative AI Architect to join our team and help us to design, build, and deploy state-of-the-art generative AI solutions. As a Senior Generative AI Architect, you will be responsible for leading and mentoring a team of engineers in the development of innovative generative AI solutions to real-world problems. You will also work closely with product managers and business stakeholders to understand their needs and develop solutions that meet those needs. \n",
      "\n",
      "Responsibilities:\n",
      "\n",
      "Design and develop the architecture for our generative AI systems.\n",
      "Work with other team members to implement and deploy generative AI systems into production.\n",
      "Monitor and manage generative AI systems in production to ensure that they are meeting performance and reliability requirements.\n",
      "Develop and implement best practices for building, deploying, and managing generative AI systems.\n",
      "Stay up-to-date on the latest research and developments in generative AI and apply new knowledge to our work.\n",
      "Collaborate with other engineers, scientists, and product managers to develop and deliver innovative generative AI solutions.\n",
      "Mentor and guide junior engineers \n",
      "\n",
      "Qualifications:\n",
      "\n",
      "Master's degree in Computer Science, Artificial Intelligence, or a related field.\n",
      "5+ years of experience in machine learning and generative AI.\n",
      "10+ years of experience in software development \n",
      "\n",
      "Preferred Skills and Experience:\n",
      "\n",
      "Strong experience in designing, building, and deploying scalable machine learning models in cloud platforms such as Azure or GCP\n",
      "Experience with a variety of generative AI models and techniques.\n",
      "Experience with deep learning models such as GANs, diffusion models, and transformers.\n",
      "Experience with prompt engineering and machine learning optimization\n",
      "Experience with computer vision and natural language processing.\n",
      "Experience with reinforcement learning.\n",
      "Experience with distributed computing and scalable systems.\n",
      "Experience with DevOps and CI/CD.\n",
      "Experience with machine learning ethics\n",
      "Experience with generative AI applications in specific domains such as talent management, finance, or manufacturing\n",
      "Excellent communication and interpersonal skills.\n",
      "\n",
      "EY | Building a better working world \n",
      "\n",
      "EY exists to build a better working world, helping to create long-term value for clients, people and society and build trust in the capital markets. \n",
      "\n",
      "Enabled by data and technology, diverse EY teams in over 150 countries provide trust through assurance and help clients grow, transform and operate. \n",
      "\n",
      "Working across assurance, consulting, law, strategy, tax and transactions, EY teams ask better questions to find new answers for the complex issues facing our world today. \n"
     ]
    }
   ],
   "source": [
    "job_desc = open(\"JD.txt\").read()\n",
    "print (job_desc)"
   ]
  },
  {
   "cell_type": "code",
   "execution_count": 23,
   "id": "455e5f6f-768f-4a01-8cdf-244d353690b7",
   "metadata": {},
   "outputs": [
    {
     "name": "stdout",
     "output_type": "stream",
     "text": [
      "Based on the information provided, Sameer Mahajan seems to be a strong candidate for the Generative AI Architect position at EY. He has over 27 years of experience in software architecture, design, and development, and is currently working as a Principal Architect at GS Lab. He has been driving the company's Generative AI Strategy and has architected, designed, and developed several projects. He also has experience in mentoring and guiding junior engineers.\n",
      "\n",
      "He holds a BTech and MS in Computer Science from IIT Bombay and Georgia Tech, which satisfies the requirement for a Master's degree in a related field. His work experience includes machine learning and generative AI, and he has experience with cloud technologies.\n",
      "\n",
      "However, the information provided does not specify if he has experience with Azure or GCP specifically, or if he has experience with deep learning models such as GANs, diffusion models, and transformers. It also does not mention if he has experience with prompt engineering, machine learning optimization, computer vision, natural language processing, reinforcement learning, distributed computing, scalable systems, DevOps, CI/CD, machine learning ethics, or generative AI applications in specific domains such as talent management, finance, or manufacturing.\n",
      "\n",
      "Therefore, while he seems to meet many of the qualifications and preferred skills and experience, it is not clear if he meets all of them. Further information would be needed to fully determine his suitability for the position.\n"
     ]
    }
   ],
   "source": [
    "print(resume.query(question=\"does this person satisfy job description of \" + job_desc, llm=chat))"
   ]
  },
  {
   "cell_type": "code",
   "execution_count": 24,
   "id": "fa6fe4fc-abaf-4ab5-8467-6bdb831971cc",
   "metadata": {},
   "outputs": [
    {
     "name": "stdout",
     "output_type": "stream",
     "text": [
      "Yes\n"
     ]
    }
   ],
   "source": [
    "print(resume.query(question=\"does this person satisfy job description of \" + job_desc + \" answer yes or no\", llm=chat))"
   ]
  },
  {
   "cell_type": "code",
   "execution_count": null,
   "id": "cd5ecf18-53bc-45d0-9a8b-fce9f1fcf345",
   "metadata": {},
   "outputs": [],
   "source": []
  }
 ],
 "metadata": {
  "kernelspec": {
   "display_name": "Python 3 (ipykernel)",
   "language": "python",
   "name": "python3"
  },
  "language_info": {
   "codemirror_mode": {
    "name": "ipython",
    "version": 3
   },
   "file_extension": ".py",
   "mimetype": "text/x-python",
   "name": "python",
   "nbconvert_exporter": "python",
   "pygments_lexer": "ipython3",
   "version": "3.10.2"
  }
 },
 "nbformat": 4,
 "nbformat_minor": 5
}
