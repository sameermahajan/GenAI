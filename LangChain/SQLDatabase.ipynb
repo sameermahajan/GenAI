{
 "cells": [
  {
   "cell_type": "code",
   "execution_count": null,
   "id": "08eec6f6-fead-43ff-a5b3-ab651aace194",
   "metadata": {},
   "outputs": [],
   "source": [
    "from langchain import SQLDatabase\n",
    "from langchain_openai import AzureChatOpenAI, AzureOpenAI\n",
    "from langchain_experimental.sql.base import SQLDatabaseSequentialChain"
   ]
  },
  {
   "cell_type": "code",
   "execution_count": null,
   "id": "87c28144-b9d8-49de-960f-0a19ffd6198a",
   "metadata": {},
   "outputs": [],
   "source": [
    "import os\n",
    "\n",
    "from dotenv import load_dotenv, find_dotenv\n",
    "_ = load_dotenv(find_dotenv()) # read local .env file"
   ]
  },
  {
   "cell_type": "code",
   "execution_count": null,
   "id": "1c5bd819-b06e-4adb-8fb8-7ff23d5a0291",
   "metadata": {},
   "outputs": [],
   "source": [
    "db_user = os.environ['USER']\n",
    "db_password = os.environ['PWD']\n",
    "db_host = os.environ['HOST']\n",
    "db = SQLDatabase.from_uri(f\"mysql+pymysql://{db_user}:{db_password}@{db_host}\")"
   ]
  },
  {
   "cell_type": "code",
   "execution_count": null,
   "id": "aa7a7b6a-8c7f-411b-a306-88042f66ddea",
   "metadata": {},
   "outputs": [],
   "source": [
    "from langchain.agents.agent_toolkits import SQLDatabaseToolkit\n",
    "\n",
    "toolkit = SQLDatabaseToolkit(db=db)"
   ]
  },
  {
   "cell_type": "code",
   "execution_count": null,
   "id": "6b54288a-3116-4baf-a462-ce6fbab0e2b3",
   "metadata": {},
   "outputs": [],
   "source": [
    "aoi = AzureChatOpenAI(temperature=0,\n",
    "                deployment_name = \"exploratory-deployment\",\n",
    "                azure_endpoint = \"https://srinath-exploratory.openai.azure.com/\",\n",
    "                api_version = \"2023-06-01-preview\")\n",
    "print (aoi)"
   ]
  },
  {
   "cell_type": "code",
   "execution_count": null,
   "id": "34c085e0-cead-4497-bc22-3f5334506977",
   "metadata": {},
   "outputs": [],
   "source": [
    "from langchain.agents import create_sql_agent\n",
    "\n",
    "agent_executor = create_sql_agent(\n",
    "    llm=aoi,\n",
    "    toolkit=toolkit,\n",
    "    verbose=True\n",
    ")"
   ]
  },
  {
   "cell_type": "code",
   "execution_count": null,
   "id": "765603b5",
   "metadata": {},
   "outputs": [],
   "source": [
    "agent_executor.run(\"your query\")"
   ]
  }
 ],
 "metadata": {
  "kernelspec": {
   "display_name": "Python 3 (ipykernel)",
   "language": "python",
   "name": "python3"
  },
  "language_info": {
   "codemirror_mode": {
    "name": "ipython",
    "version": 3
   },
   "file_extension": ".py",
   "mimetype": "text/x-python",
   "name": "python",
   "nbconvert_exporter": "python",
   "pygments_lexer": "ipython3",
   "version": "3.10.2"
  }
 },
 "nbformat": 4,
 "nbformat_minor": 5
}
